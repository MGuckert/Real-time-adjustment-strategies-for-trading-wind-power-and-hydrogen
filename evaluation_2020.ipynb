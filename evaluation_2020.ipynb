{
 "cells": [
  {
   "attachments": {},
   "cell_type": "markdown",
   "metadata": {},
   "source": [
    "## Imports and generic functions"
   ]
  },
  {
   "cell_type": "code",
   "metadata": {
    "ExecuteTime": {
     "end_time": "2024-05-29T12:49:17.454167Z",
     "start_time": "2024-05-29T12:49:14.939887Z"
    }
   },
   "source": [
    "import numpy as np\n",
    "import pandas as pd\n",
    "\n",
    "import matplotlib\n",
    "import matplotlib.pyplot as plt\n",
    "%matplotlib inline\n",
    "\n",
    "from sklearn_extra.cluster import KMedoids\n",
    "import copy\n",
    "from constants import *\n",
    "from evaluation import *\n",
    "from real_time_adj_original import *"
   ],
   "execution_count": 1,
   "outputs": []
  },
  {
   "cell_type": "code",
   "source": [
    "(prices_B,prices_S,prices_F,prices_forecast,features,features_red,realized,price_H,max_elec,nominal_wind,penalty,min_production, forecast_production) = import_consts()\n",
    "\n",
    "month = 30*24\n",
    "year = 8760\n",
    "idx_start = len(prices_F) - year\n",
    "idx_end = len(prices_F)\n",
    "print(len(realized))"
   ],
   "metadata": {
    "collapsed": false,
    "ExecuteTime": {
     "end_time": "2024-05-29T12:49:17.513069Z",
     "start_time": "2024-05-29T12:49:17.455694Z"
    }
   },
   "execution_count": 2,
   "outputs": []
  },
  {
   "cell_type": "markdown",
   "source": [
    "## Testing the models"
   ],
   "metadata": {
    "collapsed": false
   }
  },
  {
   "cell_type": "markdown",
   "source": [
    "#### Deterministic and hindsight (and example HAPD-AF-12)"
   ],
   "metadata": {
    "collapsed": false
   }
  },
  {
   "cell_type": "code",
   "source": [
    "#-----------Deterministic\n",
    "df_det = pd.read_csv(\"./results/2020/deterministic.csv\")\n",
    "\n",
    "result_det = test_fixed(df_det.loc[:, 'forward bid'], df_det.loc[:, 'hydrogen production'], idx_start, idx_end)\n",
    "print(f\"Deterministic model all bids acccepted : {np.sum(result_det['obj'])}\")\n",
    "\n",
    "result_det_strict = test_det(df_det.loc[:, 'forward bid'], df_det.loc[:, 'hydrogen production'], idx_start, idx_end)\n",
    "print(f\"Deterministic model : {np.sum(result_det_strict['obj'])}\")\n",
    "\n",
    "\n",
    "#-----------hindsight\n",
    "df_hs = pd.read_csv(\"./results/2020/hindsight.csv\")\n",
    "\n",
    "result_hs = test_fixed(df_hs.loc[:, 'forward bid'], df_hs.loc[:, 'hydrogen production'], idx_start, idx_end)\n",
    "print(f\"Hindsight model: {np.sum(result_hs['obj'])}\")\n",
    "\n",
    "\n",
    "\n",
    "#-----------HAPD-AF-12\n",
    "df_hapd_af_12 = pd.read_csv(\"./results/2020/HAPD-AF-12.csv\")\n",
    "\n",
    "result_hapd_af_12 = test_price_domain(df_hapd_af_12, idx_start, idx_end)\n",
    "print(f\"HAPD-AF-12: {np.sum(result_hapd_af_12['obj'])}\")\n"
   ],
   "metadata": {
    "collapsed": false,
    "ExecuteTime": {
     "end_time": "2024-05-29T12:49:26.434148Z",
     "start_time": "2024-05-29T12:49:17.513585Z"
    }
   },
   "execution_count": 3,
   "outputs": []
  },
  {
   "cell_type": "markdown",
   "source": [
    "#### General models"
   ],
   "metadata": {
    "collapsed": false
   }
  },
  {
   "cell_type": "markdown",
   "source": [
    "##### General"
   ],
   "metadata": {
    "collapsed": false
   }
  },
  {
   "cell_type": "code",
   "source": [
    "\n",
    "#--------------------------GENERAL-----------------\n",
    "\n",
    "def test_general(model_name, fm=False, reduced_features=False):\n",
    "    results = []\n",
    "    print(\"\\nTesting model \", model_name)\n",
    "    for i in range(12):\n",
    "        df = pd.read_csv(f\"./results/2020/comparing_architecture/{model_name}_mo{i+1}.csv\")\n",
    "        df_f = df[[f\"qF{j+1}\" for j in range(int(len(df.columns)/2))]]\n",
    "        df_h = df[[f\"qH{j+1}\" for j in range(int(len(df.columns)/2))]]\n",
    "        tester_results = test_initial_plan(df_f, df_h, idx_start, idx_end, True, fm, reduced_features)\n",
    "        results.append(tester_results)\n",
    "        print(f\"{i+1} months training: {np.sum(tester_results['obj'])}\")\n",
    "    return results\n",
    "\n",
    "# # GENERAL For all features \n",
    "results_g_all = test_general(\"GENERAL\")\n",
    "\n",
    "# GENERAL Only forecast and price features \n",
    "results_g_rf = test_general(\"GENERAL_rf\", False, True)\n",
    "\n",
    "# GENERAL Forecast \n",
    "results_g_fm = test_general(\"GENERAL_fm\", True)\n"
   ],
   "metadata": {
    "collapsed": false
   },
   "execution_count": null,
   "outputs": []
  },
  {
   "cell_type": "markdown",
   "source": [
    "##### General oracle"
   ],
   "metadata": {
    "collapsed": false
   }
  },
  {
   "cell_type": "code",
   "source": [
    "#--------------------------GENERAL-----------------\n",
    "\n",
    "def test_general_oracle(model_name, fm=False, reduced_features=False):\n",
    "    results = []\n",
    "    print(\"\\nTesting model \", model_name)\n",
    "    df = pd.read_csv(f\"./results/2020/comparing_architecture/{model_name}.csv\")\n",
    "    df_f = df[[f\"qF{j+1}\" for j in range(int(len(df.columns)/2))]]\n",
    "    df_h = df[[f\"qH{j+1}\" for j in range(int(len(df.columns)/2))]]\n",
    "    tester_results = test_initial_plan(df_f, df_h, idx_start, idx_end, True, fm, reduced_features)\n",
    "    results.append(tester_results)\n",
    "    print(f\"Results: {np.sum(tester_results['obj'])}\")\n",
    "    return results\n",
    "\n",
    "# GENERAL For all features - best was \n",
    "results_g_all_oracle = test_general_oracle(\"GENERAL_ORACLE\")\n",
    "\n",
    "# GENERAL Only forecast and price features - best was \n",
    "results_g_rf_oracle = test_general_oracle(\"GENERAL_rf_ORACLE\", False, True)\n",
    "\n",
    "# GENERAL Forecast model - best was \n",
    "results_g_fm_oracle = test_general_oracle(\"GENERAL_fm_ORACLE\", True)\n"
   ],
   "metadata": {
    "collapsed": false
   },
   "execution_count": null,
   "outputs": []
  },
  {
   "cell_type": "markdown",
   "source": [
    "##### General PD"
   ],
   "metadata": {
    "collapsed": false
   }
  },
  {
   "cell_type": "code",
   "source": [
    "\n",
    "#--------------------------general_PRICEDOMAIN-----------------\n",
    "\n",
    "def test_general_pd(model_name, fm=False, reduced_features=False):\n",
    "    results = []\n",
    "    print(\"\\nTesting model \", model_name)\n",
    "    for i in range(12):\n",
    "        df = pd.read_csv(f\"./results/2020/pricedomains/{model_name}_mo{i+1}.csv\")\n",
    "        tester_results = test_price_domain(df, idx_start, idx_end, True, fm, reduced_features)\n",
    "        results.append(tester_results)\n",
    "        print(f\"{i+1} months training: {np.sum(tester_results['obj'])}\")\n",
    "    return results\n",
    "\n",
    "# general_PRICEDOMAIN For all features\n",
    "results_g_all_PD = test_general_pd(\"general_PRICEDOMAIN\")\n",
    "\n",
    "# general_PRICEDOMAIN Only forecast and price features\n",
    "results_g_rf_PD = test_general_pd(\"general_rf_PRICEDOMAIN\", False, True)\n",
    "\n",
    "# general_PRICEDOMAIN Forecast model \n",
    "results_g_fm_PD = test_general_pd(\"general_fm_PRICEDOMAIN\", True)\n",
    "\n"
   ],
   "metadata": {
    "collapsed": false
   },
   "execution_count": null,
   "outputs": []
  },
  {
   "cell_type": "markdown",
   "source": [
    "##### General pd Retraining"
   ],
   "metadata": {
    "collapsed": false
   }
  },
  {
   "cell_type": "code",
   "source": [
    "#--------------------------general_pricedomain_RETRAINING-----------------\n",
    "\n",
    "def test_general_pd_retraining(init_filename, model_name, fm=False, reduced_features=False):\n",
    "    results = []\n",
    "    print(\"\\nTesting model \", model_name)\n",
    "    for i in range(12):\n",
    "        cqs_filename = (f\"./results/2020/changing_qs_general/{i+1}_month_training/{model_name}\")\n",
    "        tester_results = test_price_domain_changing_qs(init_filename, cqs_filename, idx_start, idx_end, True, fm, reduced_features)\n",
    "        results.append(tester_results)\n",
    "        print(f\"{i+1} months training: {np.sum(tester_results['obj'])}\")\n",
    "    return results\n",
    "\n",
    "# general_pricedomain_RETRAINING For all features\n",
    "s_all_pd_init = f\"./results/2020/pricedomains/general_PRICEDOMAIN_mo1.csv\"\n",
    "results_g_all_PD_retrained = test_general_pd_retraining(s_all_pd_init, \"general_pricedomain_RETRAINING\")\n",
    "\n",
    "# general_pricedomain_RETRAINING Only forecast and price features\n",
    "s_rf_pd_init = f\"./results/2020/pricedomains/general_rf_PRICEDOMAIN_mo1.csv\"\n",
    "results_g_rf_PD_retrained = test_general_pd_retraining(s_rf_pd_init, \"general_rf_pricedomain_RETRAINING\", False, True)\n",
    "\n",
    "# general_pricedomain_RETRAINING For all features\n",
    "s_fm_pd_init = f\"./results/2020/pricedomains/general_fm_PRICEDOMAIN_mo1.csv\"\n",
    "results_g_fm_PD_retrained = test_general_pd_retraining(s_fm_pd_init, \"general_forecasted_fm_pricedomain_RETRAINING\", True)\n"
   ],
   "metadata": {
    "collapsed": false
   },
   "execution_count": null,
   "outputs": []
  },
  {
   "cell_type": "markdown",
   "source": [
    "#### Hourly models"
   ],
   "metadata": {
    "collapsed": false
   }
  },
  {
   "cell_type": "markdown",
   "source": [
    "##### Hourly"
   ],
   "metadata": {
    "collapsed": false
   }
  },
  {
   "cell_type": "code",
   "source": [
    "\n",
    "#--------------------------HOURLY-----------------\n",
    "\n",
    "def test_hourly(model_name, fm=False, reduced_features=False):\n",
    "    results = []\n",
    "    print(\"\\nTesting model \", model_name)\n",
    "    for i in range(12):\n",
    "        df = pd.read_csv(f\"./results/2020/comparing_architecture/{model_name}_mo{i+1}.csv\")\n",
    "        df_f = df[[f\"qF{j+1}\" for j in range(int(len(df.columns)/2))]]\n",
    "        df_h = df[[f\"qH{j+1}\" for j in range(int(len(df.columns)/2))]]\n",
    "        tester_results = test_initial_plan(df_f, df_h, idx_start, idx_end, False, fm, reduced_features)\n",
    "        results.append(tester_results)\n",
    "        print(f\"{i+1} months training: {np.sum(tester_results['obj'])}\")\n",
    "    return results\n",
    "\n",
    "# HOURLY For all features \n",
    "results_h_all = test_hourly(\"HOURLY\")\n",
    "\n",
    "# HOURLY Only forecast and price features \n",
    "results_h_rf = test_hourly(\"HOURLY_rf\", False, True)\n",
    "\n",
    "# HOURLY Forecast model \n",
    "results_h_fm = test_hourly(\"HOURLY_fm\", True)\n"
   ],
   "metadata": {
    "collapsed": false
   },
   "execution_count": null,
   "outputs": []
  },
  {
   "cell_type": "markdown",
   "source": [
    "##### Hourly oracle"
   ],
   "metadata": {
    "collapsed": false
   }
  },
  {
   "cell_type": "code",
   "source": [
    "\n",
    "#--------------------------HOURLY oracle-----------------\n",
    "\n",
    "def test_hourly_oracle(model_name, fm=False, reduced_features=False):\n",
    "    results = []\n",
    "    print(\"\\nTesting model \", model_name)\n",
    "    df = pd.read_csv(f\"./results/2020/comparing_architecture/{model_name}.csv\")\n",
    "    df_f = df[[f\"qF{j+1}\" for j in range(int(len(df.columns)/2))]]\n",
    "    df_h = df[[f\"qH{j+1}\" for j in range(int(len(df.columns)/2))]]\n",
    "    tester_results = test_initial_plan(df_f, df_h, idx_start, idx_end, False, fm, reduced_features)\n",
    "    results.append(tester_results)\n",
    "    print(f\"result: {np.sum(tester_results['obj'])}\")\n",
    "    return results\n",
    "\n",
    "# HOURLY For all features \n",
    "results_h_all_oracle = test_hourly_oracle(\"HOURLY_ORACLE\")\n",
    "\n",
    "# HOURLY Only forecast and price features \n",
    "results_h_rf_oracle = test_hourly_oracle(\"HOURLY_rf_ORACLE\", False, True)\n",
    "\n",
    "# HOURLY Forecast model \n",
    "results_h_fm_oracle = test_hourly_oracle(\"HOURLY_fm_ORACLE\", True)\n"
   ],
   "metadata": {
    "collapsed": false
   },
   "execution_count": null,
   "outputs": []
  },
  {
   "cell_type": "markdown",
   "source": [
    "##### Hourly PD"
   ],
   "metadata": {
    "collapsed": false
   }
  },
  {
   "cell_type": "code",
   "source": [
    "\n",
    "#--------------------------hourly_PRICEDOMAIN-----------------\n",
    "\n",
    "def test_hourly_pd(model_name, fm=False, reduced_features=False):\n",
    "    results = []\n",
    "    print(\"\\nTesting model \", model_name)\n",
    "    for i in range(12):\n",
    "        df = pd.read_csv(f\"./results/2020/pricedomains/{model_name}_mo{i+1}.csv\")\n",
    "        tester_results = test_price_domain(df, idx_start, idx_end, False, fm, reduced_features)\n",
    "        results.append(tester_results)\n",
    "        print(f\"{i+1} months training: {np.sum(tester_results['obj'])}\")\n",
    "    return results\n",
    "\n",
    "# hourly_PRICEDOMAIN For all features \n",
    "results_h_all_PD = test_hourly_pd(\"hourly_PRICEDOMAIN\")\n",
    "\n",
    "# hourly_PRICEDOMAIN Only forecast and price features \n",
    "results_h_rf_PD = test_hourly_pd(\"hourly_rf_PRICEDOMAIN\", False, True)\n",
    "\n",
    "# hourly_PRICEDOMAIN Forecast model \n",
    "results_h_fm_PD = test_hourly_pd(\"hourly_fm_PRICEDOMAIN\", True)\n"
   ],
   "metadata": {
    "collapsed": false
   },
   "execution_count": null,
   "outputs": []
  },
  {
   "cell_type": "markdown",
   "source": [
    "##### Hourly retraining"
   ],
   "metadata": {
    "collapsed": false
   }
  },
  {
   "cell_type": "code",
   "source": [
    "\n",
    "def test_hourly_retrained(init_filename, model_name, fm=False, reduced_features=False, weekly=False):\n",
    "    results = []\n",
    "    print(\"\\nTesting monthly model \", model_name)\n",
    "    for i in range(12):\n",
    "        cqs_filename = (f\"./results/2020/changing_qs_hourly/{i+1}_month_training/{model_name}\")\n",
    "        tester_results = test_initial_plan_changing_qs(init_filename, cqs_filename, idx_start, idx_end, False, fm, reduced_features, weekly)\n",
    "        results.append(tester_results)\n",
    "        print(f\"{i+1} months training: {np.sum(tester_results['obj'])}\")\n",
    "    return results\n",
    "\n",
    "m_rf_init = f\"./results/2020/comparing_architecture/hourly_rf_mo3.csv\"\n",
    "results_h_rf_retrained = test_hourly_retrained(m_rf_init, \"hourly_rf_RETRAINING\", False, True)\n",
    "\n",
    "m_fm_init = f\"./results/2020/comparing_architecture/HOURLY_fm_mo3.csv\"\n",
    "results_h_fm_retrained = test_hourly_retrained(m_fm_init, \"hourly_fm_RETRAINING\", True)\n"
   ],
   "metadata": {
    "collapsed": false
   },
   "execution_count": null,
   "outputs": []
  },
  {
   "cell_type": "markdown",
   "source": [
    "##### Hourly pd Oracle"
   ],
   "metadata": {
    "collapsed": false
   }
  },
  {
   "cell_type": "code",
   "source": [
    "\n",
    "#--------------------------hourly_pricedomain_ORACLE-----------------\n",
    "\n",
    "def test_hourly_pd_oracle(model_name, fm=False, reduced_features=False):\n",
    "    results = []\n",
    "    print(\"\\nTesting model \", model_name)\n",
    "    df = pd.read_csv(f\"./results/2020/pricedomains/{model_name}.csv\")\n",
    "    tester_results = test_price_domain(df, idx_start, idx_end, False, fm, reduced_features)\n",
    "    results.append(tester_results)\n",
    "    print(f\"Result: {np.sum(tester_results['obj'])}\")\n",
    "    return results\n",
    "\n",
    "# hourly_PRICEDOMAIN For all features \n",
    "results_h_all_pd_ORACLE = test_hourly_pd_oracle(\"hourly_pricedomain_ORACLE\")\n",
    "\n",
    "# hourly_PRICEDOMAIN Only forecast and price features \n",
    "results_h_rf_pd_ORACLE = test_hourly_pd_oracle(\"hourly_rf_pricedomain_ORACLE\", False, True)\n",
    "\n",
    "# hourly_PRICEDOMAIN Forecast model \n",
    "results_h_fm_pd_ORACLE = test_hourly_pd_oracle(\"hourly_fm_pricedomain_ORACLE\", True)\n"
   ],
   "metadata": {
    "collapsed": false
   },
   "execution_count": null,
   "outputs": []
  },
  {
   "cell_type": "markdown",
   "source": [
    "##### Hourly pd Retraining"
   ],
   "metadata": {
    "collapsed": false
   }
  },
  {
   "cell_type": "code",
   "source": [
    "#--------------------------hourly_pricedomain_RETRAINING-----------------\n",
    "\n",
    "def test_hourly_pd_retraining(init_filename, model_name, fm=False, reduced_features=False):\n",
    "    results = []\n",
    "    print(\"\\nTesting monthly model \", model_name)\n",
    "    for i in range(12):\n",
    "        cqs_filename = (f\"./results/2020/changing_qs_hourly/{i+1}_month_training/{model_name}\")\n",
    "        tester_results = test_price_domain_changing_qs(init_filename, cqs_filename, idx_start, idx_end, False, fm, reduced_features)\n",
    "        results.append(tester_results)\n",
    "        print(f\"{i+1} months training: {np.sum(tester_results['obj'])}\")\n",
    "    return results\n",
    "\n",
    "\n",
    "# hourly_pricedomain_RETRAINING For all features\n",
    "m_all_pd_init = f\"./results/2020/pricedomains/hourly_PRICEDOMAIN_mo1.csv\"\n",
    "results_h_all_PD_retrained = test_hourly_pd_retraining(m_all_pd_init, \"hourly_pricedomain_RETRAINING\")\n",
    "\n",
    "# hourly_pricedomain_RETRAINING Only forecast and price features\n",
    "m_rf_pd_init = f\"./results/2020/pricedomains/hourly_rf_PRICEDOMAIN_mo3.csv\"\n",
    "results_h_rf_PD_retrained = test_hourly_pd_retraining(m_rf_pd_init, \"hourly_rf_pricedomain_RETRAINING\", False, True)\n",
    "\n",
    "# # hourly_pricedomain_RETRAINING Forecast model\n",
    "m_fm_pd_init = f\"./results/2020/pricedomains/hourly_fm_PRICEDOMAIN_mo3.csv\"\n",
    "results_h_fm_PD_retrained = test_hourly_pd_retraining(m_fm_pd_init, \"hourly_fm_pricedomain_RETRAINING\", True)\n",
    "\n"
   ],
   "metadata": {
    "collapsed": false
   },
   "execution_count": null,
   "outputs": []
  },
  {
   "cell_type": "code",
   "source": [
    "def printstuff(r1, r2, trange, maxcount=10):\n",
    "    # To perform detailed investigations of model outputs\n",
    "    counter = 0\n",
    "    for i in trange:\n",
    "        if counter > maxcount:\n",
    "            break\n",
    "        if round(r2['obj'][i], 0) < round(r1['obj'][i], 0):\n",
    "            counter += 1\n",
    "            t = i+idx_start\n",
    "            print(f\"\\ni={i}, fp={prices_F[t]}, sp={prices_S[t]}, bp={prices_B[t]}, realized={realized[t]}, opt_h={get_hydro_opt(realized[t]-r1['forward_bid'][i], price_H, prices_S[t], prices_B[t], max_elec)}\")\n",
    "            print(f\"ori: {r1['obj'][i]:.2f}, fb={r1['forward_bid'][i]:.2f}, hprod={r1['h_prod'][i]:.2f}, dw={r1['dw'][i]:.2f}, up={r1['up'][i]:.2f}, missing={r1['missing_production'][i]:.2f}\")\n",
    "            print(f\"should-be-better: {r2['obj'][i]:.2f}, fb={r2['forward_bid'][i]:.2f}, hprod={r2['h_prod'][i]:.2f}, dw={r2['dw'][i]:.2f}, up={r2['up'][i]:.2f}, missing={r2['missing_production'][i]:.2f}\")\n",
    "\n",
    "# Test on when model HAPD-FM-2 was different from optimal as example:\n",
    "# printstuff(results_h_fm_PD_retrained[1], result_hs, range(idx_end-idx_start))\n"
   ],
   "metadata": {
    "collapsed": false
   },
   "execution_count": null,
   "outputs": []
  },
  {
   "cell_type": "markdown",
   "source": [
    "#### Adjustment"
   ],
   "metadata": {
    "collapsed": false
   }
  },
  {
   "cell_type": "code",
   "source": [
    "def adjust(res):\n",
    "    # Apply all 3 kinds of adjustment to a model\n",
    "    res_up = apply_upwards_adj(res, idx_start, idx_end)\n",
    "    res_up_dw = apply_up_and_dw_adj(res, idx_start, idx_end)\n",
    "    res_pp = apply_risky_policy(res, idx_start, idx_end)\n",
    "    return res_up, res_up_dw, res_pp"
   ],
   "metadata": {
    "collapsed": false
   },
   "execution_count": null,
   "outputs": []
  },
  {
   "cell_type": "markdown",
   "source": [
    "##### Deterministic adjustment"
   ],
   "metadata": {
    "collapsed": false
   }
  },
  {
   "cell_type": "code",
   "source": [
    "det_up = apply_upwards_adj(result_det, idx_start, idx_end)\n",
    "det_up_dw = apply_up_and_dw_adj(result_det, idx_start, idx_end)\n",
    "det_pp = apply_risky_policy(result_det, idx_start, idx_end)\n",
    "print(\"Original: \", np.sum(result_det['obj']))\n",
    "print(\"Upwards adj: \", np.sum(det_up['obj']))\n",
    "print(\"Up + dw adj: \", np.sum(det_up_dw['obj']))\n",
    "print(\"Postponing adj: \", np.sum(det_pp['obj']))\n",
    "\n",
    "det_strict_up = apply_upwards_adj(result_det_strict, idx_start, idx_end)\n",
    "det_strict_up_dw = apply_up_and_dw_adj(result_det_strict, idx_start, idx_end)\n",
    "det_strict_pp = apply_risky_policy(result_det_strict, idx_start, idx_end)\n",
    "print(\"Original: \", np.sum(result_det_strict['obj']))\n",
    "print(\"Upwards adj: \", np.sum(det_strict_up['obj']))\n",
    "print(\"Up + dw adj: \", np.sum(det_strict_up_dw['obj']))\n",
    "print(\"Postponing adj: \", np.sum(det_strict_pp['obj']))"
   ],
   "metadata": {
    "collapsed": false
   },
   "execution_count": null,
   "outputs": []
  },
  {
   "cell_type": "markdown",
   "source": [
    "##### General architecture adjustment (GAPD-FM-3)"
   ],
   "metadata": {
    "collapsed": false
   }
  },
  {
   "cell_type": "code",
   "source": [
    "other_up = apply_upwards_adj(results_g_fm_PD[2], idx_start, idx_end)\n",
    "other_up_dw = apply_up_and_dw_adj(results_g_fm_PD[2], idx_start, idx_end)\n",
    "other_pp = apply_risky_policy(results_g_fm_PD[2], idx_start, idx_end)\n",
    "print(\"Original: \", np.sum(results_g_fm_PD[2]['obj']))\n",
    "print(\"Upwards adj: \", np.sum(other_up['obj']))\n",
    "print(\"Up + dw adj: \", np.sum(other_up_dw['obj']))\n",
    "print(\"Postponing adj: \", np.sum(other_pp['obj']))"
   ],
   "metadata": {
    "collapsed": false
   },
   "execution_count": null,
   "outputs": []
  },
  {
   "cell_type": "markdown",
   "source": [
    "##### Hourly architecture adjustment (HAPD-FM-3)"
   ],
   "metadata": {
    "collapsed": false
   }
  },
  {
   "cell_type": "code",
   "source": [
    "best_up = apply_upwards_adj(results_h_fm_PD_retrained[2], idx_start, idx_end)\n",
    "best_up_dw = apply_up_and_dw_adj(results_h_fm_PD_retrained[2], idx_start, idx_end)\n",
    "best_pp = apply_risky_policy(results_h_fm_PD_retrained[2], idx_start, idx_end)\n",
    "print(\"Original: \", np.sum(results_h_fm_PD_retrained[2]['obj']))\n",
    "print(\"Upwards adj: \", np.sum(best_up['obj']))\n",
    "print(\"Up + dw adj: \", np.sum(best_up_dw['obj']))\n",
    "print(\"Postponing adj: \", np.sum(best_pp['obj']))"
   ],
   "metadata": {
    "collapsed": false
   },
   "execution_count": null,
   "outputs": []
  },
  {
   "cell_type": "markdown",
   "source": [
    "##### Optimal adjustment for HAPD-AF-12"
   ],
   "metadata": {
    "collapsed": false
   }
  },
  {
   "cell_type": "code",
   "source": [
    "#-----------HAPD-AF-12\n",
    "df_hs_adj = pd.read_csv(\"./results/2020/pricedomains/hourly_PRICEDOMAIN_mo12_opt_adj.csv\")\n",
    "\n",
    "result_hs_adj = test_fixed(df_hs_adj.loc[:, 'forward bid'], df_hs_adj.loc[:, 'hydrogen production'], idx_start, idx_end)\n",
    "print(f\"Optimal adjustment model: {np.sum(result_hs_adj['obj'])}\")\n",
    "\n"
   ],
   "metadata": {
    "collapsed": false
   },
   "execution_count": null,
   "outputs": []
  },
  {
   "cell_type": "markdown",
   "source": [
    "##### Deterministic investigation"
   ],
   "metadata": {
    "collapsed": false
   }
  },
  {
   "cell_type": "code",
   "source": [
    "counter = 0\n",
    "zero_fb = 0\n",
    "zero_fb_sum = 0\n",
    "nonzero_fb = 0\n",
    "nonzero_fb_sum = 0\n",
    "n_opt_max = 0\n",
    "n_opt_min_dev = 0\n",
    "n_opt_max_sum = 0\n",
    "n_opt_min_dev_sum = 0\n",
    "for i, t in enumerate(range(idx_start, idx_end)):\n",
    "    # if counter > 15:\n",
    "    #     break\n",
    "    if (round(det_up['obj'][i], 0) > round(result_det_strict['obj'][i], 0)):\n",
    "        opt = get_hydro_opt(realized[t] - result_det_strict['forward_bid'][i], price_H, prices_S[t], prices_B[t], max_elec)\n",
    "        if (opt == max_elec):\n",
    "            n_opt_max += 1\n",
    "        else:\n",
    "            n_opt_min_dev += 1\n",
    "\n",
    "        if (round(result_det_strict['forward_bid'][i], 0) == 0):\n",
    "            zero_fb += 1\n",
    "            zero_fb_sum += det_up['h_prod'][i] - result_det_strict['h_prod'][i]\n",
    "            if (opt == max_elec):\n",
    "                n_opt_max_sum += zero_fb_sum\n",
    "            else:\n",
    "                n_opt_min_dev_sum += zero_fb_sum\n",
    "        else:\n",
    "            nonzero_fb += 1\n",
    "            nonzero_fb_sum += det_up['h_prod'][i] - result_det_strict['h_prod'][i]\n",
    "            if (opt == max_elec):\n",
    "                n_opt_max_sum += nonzero_fb_sum\n",
    "            else:\n",
    "                n_opt_min_dev_sum += nonzero_fb_sum\n",
    "\n",
    "        # print(f\"fb={result_det_strict['forward_bid'][i]}, price FC: {prices_forecast[t]}, fp={prices_F[t]}, deficit_settle price: {prices_B[t]}\")\n",
    "\n",
    "\n",
    "non_strict_res = 0\n",
    "strict_res = 0\n",
    "non_strict_res_con = 0\n",
    "strict_res_con = 0\n",
    "for i, t in enumerate(range(idx_start, idx_end)):\n",
    "    if (round(result_det_strict['forward_bid'][i], 0) == 0):\n",
    "        if (result_det['forward_bid'][i] > 0):\n",
    "            non_strict_res += prices_F[t] * result_det['forward_bid'][i]\n",
    "            strict_res += prices_S[t] * result_det['forward_bid'][i]\n",
    "        else:\n",
    "            non_strict_res_con += prices_F[t] * result_det['forward_bid'][i]\n",
    "            strict_res_con += prices_B[t] * result_det['forward_bid'][i]\n",
    "\n",
    "\n",
    "print(zero_fb)\n",
    "print(zero_fb_sum)\n",
    "print(\"non\")\n",
    "print(nonzero_fb)\n",
    "print(nonzero_fb_sum)\n",
    "print(f\"max #:\", n_opt_max)\n",
    "print(f\"min dev #: \", n_opt_min_dev)\n",
    "print(f\"max sum:\", n_opt_max_sum)\n",
    "print(f\"min dev sum: \", n_opt_min_dev_sum)\n",
    "print(\"Missed from bad forecasts prod: \", non_strict_res - strict_res)\n",
    "print(\"Missed from bad forecasts con: \", non_strict_res_con - strict_res_con)"
   ],
   "metadata": {
    "collapsed": false
   },
   "execution_count": null,
   "outputs": []
  },
  {
   "cell_type": "markdown",
   "source": [
    "#### Plots"
   ],
   "metadata": {
    "collapsed": false
   }
  },
  {
   "cell_type": "code",
   "source": [
    "#-------------------OVERVIEW PLOT\n",
    "import matplotlib.patches as mpatches\n",
    "from matplotlib.lines import Line2D\n",
    "import matplotlib.transforms as mtrans\n",
    "import matplotlib.markers as markers\n",
    "\n",
    "\n",
    "#------------------------------------------------------------------------\n",
    "#-----------------------------------------GA & HA-------------------------\n",
    "#------------------------------------------------------------------------\n",
    "\n",
    "def plot_ga_and_ha(save=False):\n",
    "\n",
    "    results_to_plot = [\n",
    "        [results_g_all, results_g_rf, results_g_fm],\n",
    "        [results_h_all, results_h_rf, results_h_fm]\n",
    "    ]\n",
    "\n",
    "    plot_titles = [\n",
    "        \"GA\",\n",
    "        \"HA\"\n",
    "    ]\n",
    "\n",
    "    fig, axs = plt.subplots(1,2, figsize=(10,5))\n",
    "    xs = range(1,13)\n",
    "    optimals = np.array([np.sum(result_hs['obj'])/(1e6) for _ in xs])\n",
    "    deterministics = np.array([np.sum(result_det_strict['obj'])/(1e6) for _ in xs])\n",
    "    for i, result_list in enumerate(results_to_plot):\n",
    "        axs[i].plot(xs, get_scaled_objs(result_list[0]), 'o', color=RED, label=\"AF\")\n",
    "        axs[i].plot(xs, get_scaled_objs(result_list[2]), '*', color=BLUE, label=\"FM\")\n",
    "        axs[i].plot(xs, get_scaled_objs(result_list[1]), '+', color=GREEN, alpha=0.8, label=\"RF\")\n",
    "        axs[i].plot(xs, optimals, '--', color=CBLUE, label=\"Hindsight\")\n",
    "        # axs[idx1, idx2].plot(xs, oracles[i]-0.03, '--', color=\"grey\", label=\"Oracle\")\n",
    "        axs[i].plot(xs, deterministics, '--', color=CGREEN, label=\"Deterministic\")\n",
    "        axs[i].set_title(plot_titles[i], fontweight=\"bold\")\n",
    "        axs[i].set_xlabel(\"Months of training\")\n",
    "        axs[i].set_ylabel(\"Total revenue for test period [M€]\")\n",
    "        axs[i].set_ylim(0.6, 2)\n",
    "        axs[i].set_xticks(xs)\n",
    "        axs[i].legend(loc=\"lower center\")\n",
    "\n",
    "\n",
    "    fig.tight_layout()\n",
    "    \n",
    "    # handles = []\n",
    "\n",
    "\n",
    "    # af_marker = Line2D([0], [0], label='AF', color=RED, marker='o', linestyle='None')\n",
    "    # fm_marker = Line2D([0], [0], label='FM', color=BLUE, marker='*', linestyle='None')\n",
    "    # fp_marker = Line2D([0], [0], label='FP', color=GREEN, marker='+', linestyle='None')\n",
    "\n",
    "    # hindsight_marker = Line2D([0], [0], label='Hindsight', color=CBLUE)\n",
    "    # deterministic_marker = Line2D([0], [0], label='Deterministic', color=CGREEN)\n",
    "    # hindsight_marker.set_linestyle('--')\n",
    "    # deterministic_marker.set_linestyle('--')\n",
    "    # handles.append(af_marker) \n",
    "    # handles.append(fm_marker) \n",
    "    # handles.append(fp_marker) \n",
    "    # handles.append(hindsight_marker) \n",
    "    # handles.append(deterministic_marker) \n",
    "    # fig.legend(handles=handles, bbox_to_anchor=(0.8, 0), ncol=5)\n",
    "    if save:\n",
    "        fig.savefig(\"./pdfs/2020_results_GA_HA.pdf\")\n",
    "\n",
    "\n",
    "#------------------------------------------------------------------------\n",
    "#-----------------------------------------ALL THE OTHERS-------------------------\n",
    "#------------------------------------------------------------------------\n",
    "\n",
    "\n",
    "def plot_others(save=False):\n",
    "\n",
    "    results_to_plot = [\n",
    "        [results_g_all_PD, results_g_rf_PD, results_g_fm_PD],\n",
    "        [results_h_all_PD, results_h_rf_PD, results_h_fm_PD],\n",
    "        [results_g_all_PD_retrained, results_g_rf_PD_retrained, results_g_fm_PD_retrained],\n",
    "        [results_h_all_PD_retrained, results_h_rf_PD_retrained, results_h_fm_PD_retrained]\n",
    "    ]\n",
    "\n",
    "    plot_titles = [\n",
    "        \"GAPD\",\n",
    "        \"HAPD\",\n",
    "        \"GAPDR\",\n",
    "        \"HAPDR\",\n",
    "    ]\n",
    "\n",
    "    fig, axs = plt.subplots(2,2, figsize=(10,10))\n",
    "    xs = range(1,13)\n",
    "    optimals = np.array([np.sum(result_hs['obj'])/(1e6) for _ in xs])\n",
    "    deterministics = np.array([np.sum(result_det_strict['obj'])/(1e6) for _ in xs])\n",
    "    for i, result_list in enumerate(results_to_plot):\n",
    "        idx2 = int(np.floor((i/2)%3))\n",
    "        idx1 = int(i%2)\n",
    "        # print(f\"idx1: {idx1}, idx2: {idx2}\")\n",
    "        axs[idx1, idx2].plot(xs, get_scaled_objs(result_list[0]), 'o', color=RED, label=\"AF\")\n",
    "        axs[idx1, idx2].plot(xs, get_scaled_objs(result_list[2]), '*', color=BLUE, label=\"FM\")\n",
    "        axs[idx1, idx2].plot(xs, get_scaled_objs(result_list[1]), '+', color=GREEN, alpha=0.8, label=\"RF\")\n",
    "        axs[idx1, idx2].plot(xs, optimals, '--', color=CBLUE, label=\"Hindsight\")\n",
    "        # axs[idx1, idx2].plot(xs, oracles[i]-0.03, '--', color=\"grey\", label=\"Oracle\")\n",
    "        axs[idx1, idx2].plot(xs, deterministics, '--', color=CGREEN, label=\"Deterministic\")\n",
    "        axs[idx1, idx2].set_title(plot_titles[i], fontweight=\"bold\")\n",
    "        if idx2 > 0:\n",
    "            axs[idx1, idx2].legend(loc=\"lower right\")\n",
    "        else:\n",
    "            axs[idx1, idx2].legend()\n",
    "        axs[idx1, idx2].set_xlabel(\"Months of training\")\n",
    "        axs[idx1, idx2].set_ylabel(\"Total revenue for test period [M€]\")\n",
    "        axs[idx1, idx2].set_ylim(1.6, 1.92)\n",
    "        axs[idx1, idx2].set_xticks(xs)\n",
    "\n",
    "    fig.tight_layout()\n",
    "    if save:\n",
    "        fig.savefig(\"./pdfs/2020_results_OTHERS.pdf\")\n",
    "\n",
    "\n",
    "\n",
    "# plot_ga_and_ha(True)\n",
    "plot_others()"
   ],
   "metadata": {
    "collapsed": false
   },
   "execution_count": null,
   "outputs": []
  },
  {
   "cell_type": "code",
   "source": [
    "#--------------------TESTING MISSING PRODUCTION\n",
    "\n",
    "results_to_plot = [\n",
    "    # [results_g_all, results_g_rf, results_g_fm],\n",
    "    # [results_h_all, results_h_rf, results_h_fm],\n",
    "    # [results_g_all_PD, results_g_rf_PD, results_g_fm_PD],\n",
    "    # [results_h_all_PD, results_h_rf_PD, results_h_fm_PD],\n",
    "    [results_g_all_PD_retrained, results_g_rf_PD_retrained, results_g_fm_PD_retrained],\n",
    "    [results_h_all_PD_retrained, results_h_rf_PD_retrained, results_h_fm_PD_retrained]\n",
    "]\n",
    "plot_titles = [\n",
    "    # \"GA\",\n",
    "    # \"HA\",\n",
    "    # \"GAPD\",\n",
    "    # \"HAPD\",\n",
    "    \"GAPDR\",\n",
    "    \"HAPDR\",\n",
    "]\n",
    "feature_vector_names = [\n",
    "    \"AF\",\n",
    "    \"FM\",\n",
    "    \"RF\"\n",
    "]\n",
    "for i, res_type in enumerate(results_to_plot):\n",
    "    for j, res_list in enumerate(res_type):\n",
    "        for k, res in enumerate(res_list):\n",
    "            total_missing = np.sum(res['missing_production'])\n",
    "            print(f\"Model {plot_titles[i]}-{feature_vector_names[j]}-{k+1} has: {total_missing}\")"
   ],
   "metadata": {
    "collapsed": false
   },
   "execution_count": null,
   "outputs": []
  },
  {
   "cell_type": "code",
   "source": [
    "#-------------------REVENUE DISTRIBUTION----------------------\n",
    "best_res = results_h_all_PD[0]\n",
    "# oracle_res = results_h_all_pd_ORACLE[0]\n",
    "\n",
    "strict_det = True\n",
    "plot_penalties = True\n",
    "plot_adjustments = False\n",
    "\n",
    "# forward_opt = np.sum([result_hs['forward_bid'][i]*prices_F[t] for i, t in enumerate(range(idx_start, idx_end))])\n",
    "# forward_det = np.sum([result_det_strict['forward_bid'][i]*prices_F[t] for i, t in enumerate(range(idx_start, idx_end))])\n",
    "# forward_best = np.sum([best_res['forward_bid'][i]*prices_F[t] for i, t in enumerate(range(idx_start, idx_end))])\n",
    "forward_opt = np.sum([result_hs['forward_bid'][i]*prices_F[t] for i, t in enumerate(range(idx_start, idx_end))  if (result_hs['forward_bid'][i] > 0)])\n",
    "forward_det = np.sum([result_det_strict['forward_bid'][i]*prices_F[t] for i, t in enumerate(range(idx_start, idx_end))  if (result_det_strict['forward_bid'][i] > 0)])\n",
    "forward_best = np.sum([best_res['forward_bid'][i]*prices_F[t] for i, t in enumerate(range(idx_start, idx_end))  if (best_res['forward_bid'][i] > 0)])\n",
    "\n",
    "hprod_opt = np.sum([result_hs['h_prod'][i]*price_H for i, t in enumerate(range(idx_start, idx_end))])\n",
    "hprod_det = np.sum([result_det_strict['h_prod'][i]*price_H for i, t in enumerate(range(idx_start, idx_end))])\n",
    "hprod_best = np.sum([best_res['h_prod'][i]*price_H for i, t in enumerate(range(idx_start, idx_end))])\n",
    "\n",
    "\n",
    "def dist_plot():\n",
    "\n",
    "    if strict_det:\n",
    "        det_res = result_det_strict\n",
    "    else:\n",
    "        det_res = result_det\n",
    "\n",
    "    # xlabels = [\"Hindsight\", \"Deterministic\", \"Learned\", testname]\n",
    "    xlabels = [\"Hindsight\", \"Deterministic\", \"HAPD-AF-12\"]\n",
    "    # xlabels = [\"Hindsight\", \"Deterministic\", \"95% quantile penalty\", \"Max penalty\"]\n",
    "    values = np.array([\n",
    "        forward_opt,\n",
    "        forward_det,\n",
    "        forward_best\n",
    "    ])\n",
    "\n",
    "    hydrogens = np.array([\n",
    "        hprod_opt,\n",
    "        hprod_det,\n",
    "        hprod_best\n",
    "    ])\n",
    "\n",
    "    values *= 1/1e6\n",
    "    hydrogens *= 1/1e6\n",
    "\n",
    "    xs = range(len(values))\n",
    "    width = 0.35\n",
    "    fig, ax = plt.subplots(figsize=(5,5))\n",
    "    ax.grid(which='major', color='#DDDDDD', linewidth=0.8)\n",
    "    ax.grid(which='minor', color='#EEEEEE', linestyle=':', linewidth=0.5)\n",
    "    ax.minorticks_on()\n",
    "    ax.set_axisbelow(True)\n",
    "    ax.bar(xs, values, width, color=RED, label=\"Forward market revenue\")\n",
    "    ax.bar(xs, hydrogens, width, bottom=values, color=BLUE, label=\"Hydrogen production revenue\")\n",
    "    # ax.bar(xs, hydrogens, width, color=BLUE, label=\"Hydrogen production revenue\")\n",
    "    # if plot_penalties:\n",
    "    #     ax.bar(xs, penalties, width, bottom=values, color=BLUE, label=\"Penalty Loss\")\n",
    "    # if plot_adjustments:\n",
    "    #     ax.bar(xs, adjustments, width, bottom=values, color=BLUE, label=\"Adjustment Revenue\")\n",
    "    ax.set_xticklabels(xlabels, rotation=45)\n",
    "    ax.set_xticks(xs)\n",
    "    ax.set_ylabel(\"Total revenue for test period [M€]\")\n",
    "    ax.set_ylim(0, 3.2)\n",
    "    fig.show()\n",
    "    fig.tight_layout()\n",
    "    ax.legend()\n",
    "    print(\"\\n\")\n",
    "    # print(f\"Best is {(np.sum(best_res['obj'])-np.sum(other_res['obj']))/(np.sum(other_res['obj']))*100:.2f} % better than {testname}\")\n",
    "    # ax.set_title(\"2020 Results\")\n",
    "    return fig, ax\n",
    "\n",
    "fig, ax = dist_plot()\n",
    "\n",
    "# fig.savefig(\"./pdfs/rev_dist.pdf\")"
   ],
   "metadata": {
    "collapsed": false
   },
   "execution_count": null,
   "outputs": []
  },
  {
   "cell_type": "code",
   "source": [
    "#-------------------PENALTY, ADJUSTMENT, AND ORACLE COMPARISON PLOTS----------------------\n",
    "ga_res = results_g_fm[0]\n",
    "ga_oracle_res = results_g_fm_oracle[0]\n",
    "hapd_res = results_h_all_PD[11]\n",
    "hapd_oracle_res = results_h_all_pd_ORACLE[0]\n",
    "ha_res = results_h_rf[0]\n",
    "ha_oracle_res = results_h_rf_oracle[0]\n",
    "\n",
    "best_res = results_h_all_PD[11]\n",
    "\n",
    "strict_det = True\n",
    "plot_penalties = False\n",
    "plot_adjustments = False\n",
    "\n",
    "\n",
    "def result_plot():\n",
    "\n",
    "    if strict_det:\n",
    "        det_res = result_det_strict\n",
    "    else:\n",
    "        det_res = result_det\n",
    "\n",
    "\n",
    "\n",
    "    xlabels = [\"Hindsight\", \"Deterministic\", \"GA-FM-1\", \"GA-FM-ORACLE\"]\n",
    "    # xlabels = [\"Hindsight\", \"Deterministic\", \"HAPD-AF-12\", \"GA-AF-1\"] \n",
    "    # xlabels = [\"Hindsight\", \"Deterministic\", \"HAPD-AF-12\", \"HAPD-AF-ORACLE\"]\n",
    "    # xlabels = [\"Hindsight\", \"Deterministic\", \"HAPD-AF-12\", \"HAPD-AF-12-OA\"]\n",
    "\n",
    "    values = np.array([\n",
    "        np.sum(result_hs['obj']),\n",
    "        np.sum(det_res['obj']),\n",
    "        np.sum(ga_res['obj']),\n",
    "        np.sum(ga_oracle_res['obj']),\n",
    "        # obj(ha_oracle_res),\n",
    "        # obj(best_res)\n",
    "    ])\n",
    "\n",
    "    # adjustments = np.array([\n",
    "    #     0,\n",
    "    #     np.sum(det_strict_up['obj'])-np.sum(det_res['obj']),\n",
    "    #     np.sum(best_up['obj'])-np.sum(best_res['obj']),\n",
    "    #     np.sum(result_hs_adj['obj'])-np.sum(best_res['obj']),\n",
    "    # ])\n",
    "\n",
    "    adjustments = np.array([\n",
    "        0,\n",
    "        np.sum(det_strict_up_dw['obj'])-np.sum(det_res['obj']),\n",
    "        np.sum(best_up_dw['obj'])-np.sum(best_res['obj']),\n",
    "        # obj(oracle_up_dw) - obj(hapd_oracle_res),\n",
    "        np.sum(result_hs_adj['obj'])-np.sum(best_res['obj']),\n",
    "    ])\n",
    "\n",
    "    penalties = np.array([\n",
    "        0,\n",
    "        0,\n",
    "        np.sum(best_res['missing_production'])*penalty,\n",
    "        # obj(oracle_up_dw) - obj(hapd_oracle_res),\n",
    "        np.sum(results_g_all[0]['missing_production'])*penalty,\n",
    "    ])\n",
    "\n",
    "\n",
    "\n",
    "    values *= 1/1e6\n",
    "    adjustments *= 1/1e6\n",
    "    penalties *= 1/1e6\n",
    "\n",
    "    xs = range(len(values))\n",
    "    width = 0.35\n",
    "    fig, ax = plt.subplots(figsize=(5,5))\n",
    "    ax.grid(which='major', color='#DDDDDD', linewidth=0.8)\n",
    "    ax.grid(which='minor', color='#EEEEEE', linestyle=':', linewidth=0.5)\n",
    "    ax.minorticks_on()\n",
    "    ax.set_axisbelow(True)\n",
    "    ax.bar(xs, values, width, color=RED, label=\"Final Revenue\")\n",
    "    if plot_penalties:\n",
    "        ax.bar(xs, penalties, width, bottom=values, color=BLUE, label=\"Penalty Loss\")\n",
    "    if plot_adjustments:\n",
    "        ax.bar(xs, adjustments, width, bottom=values, color=BLUE, label=\"Adjustment Revenue\")\n",
    "    ax.set_xticklabels(xlabels, rotation=45)\n",
    "    ax.set_xticks(xs)\n",
    "    ax.set_ylabel(\"Total revenue for test period [M€]\")\n",
    "    ax.set_ylim(0, 2.3)\n",
    "    fig.show()\n",
    "    fig.tight_layout()\n",
    "    ax.legend()\n",
    "\n",
    "    return fig, ax\n",
    "\n",
    "fig, ax = result_plot()\n",
    "# fig.savefig(\"./pdfs/eval_GA.pdf\")\n",
    "# fig.savefig(\"./pdfs/eval_HAPD.pdf\")\n",
    "# fig.savefig(\"./pdfs/adj_up_HAPD.pdf\")\n",
    "# fig.savefig(\"./pdfs/adj_dw_HAPD.pdf\")\n",
    "# fig.savefig(\"./pdfs/adj_opt.pdf\")\n",
    "# fig.savefig(\"./pdfs/adj_comparison.pdf\")\n",
    "# fig.savefig(\"./pdfs/eval_penalty.pdf\")"
   ],
   "metadata": {
    "collapsed": false
   },
   "execution_count": null,
   "outputs": []
  },
  {
   "cell_type": "code",
   "source": [
    "#------------------Comparison of adjustment results\n",
    "def obj(res):\n",
    "    return np.sum(res['obj'])\n",
    "\n",
    "oracle_up, oracle_up_dw, oracle_pp = adjust(hapd_oracle_res)\n",
    "\n",
    "def print_adj_res_strings(deto, detn, learno, learnn, oraco, oracn, opt_res):\n",
    "    print(f\"det increased with {(obj(detn) - obj(deto)) / obj(deto) * 100:.2f} % - {(obj(detn) - obj(deto)):.2f} €\")\n",
    "    print(f\"learned increased with {(obj(learnn) - obj(learno)) / obj(learno) * 100:.2f} %  - {(obj(learnn) - obj(learno)):.2f} €\")\n",
    "    print(f\"oracle increased with {(obj(oracn) - obj(oraco)) / obj(oraco) * 100:.2f} %  - {(obj(oracn) - obj(oraco)):.2f} €\")\n",
    "    print(f\"learned is {(obj(learnn) - obj(detn)) / obj(detn) * 100:.2f} % better than det\")\n",
    "    print(f\"oracle is {(obj(oracn) - obj(learnn)) / obj(learnn) * 100:.2f} % better than learned\")\n",
    "    print(f\"hindsight is {(obj(opt_res) - obj(learnn)) / obj(learnn) * 100:.2f} % better than learned\")\n",
    "\n",
    "print_adj_res_strings(\n",
    "    result_det_strict, \n",
    "    det_strict_up_dw, \n",
    "    best_res,\n",
    "    best_up_dw,\n",
    "    hapd_oracle_res,\n",
    "    oracle_up_dw,\n",
    "    result_hs\n",
    "    )"
   ],
   "metadata": {
    "collapsed": false
   },
   "execution_count": null,
   "outputs": []
  },
  {
   "cell_type": "code",
   "source": [
    "#---------------Print some high-level summaries for a model\n",
    "def print_bal_info(res):\n",
    "    b = np.sum(res['up'])\n",
    "    s = np.sum(res['dw'])\n",
    "    e = np.sum([res['dw'][i]*prices_S[t] for i, t in enumerate(range(idx_start, idx_end))])\n",
    "    p = np.sum([res['up'][i]*prices_B[t] for i, t in enumerate(range(idx_start, idx_end))])\n",
    "    f = np.sum([res['forward_bid'][i]*prices_F[t] for i, t in enumerate(range(idx_start, idx_end))])\n",
    "    h = np.sum([res['h_prod'][i]*price_H for i, t in enumerate(range(idx_start, idx_end))])\n",
    "    o = np.sum(res['obj'])\n",
    "    # print(\"Total: \", s-b)\n",
    "    # print(\"Surplus settlements: \", s, f\" ({s / (s+b)*100:.2f}) %\")\n",
    "    # print(\"Deficit settlements: \", b, f\" ({b / (s+b)*100:.2f}) %\")\n",
    "    print(\"Sum €: \", e+p)\n",
    "    print(\"Total €: \", e-p)\n",
    "    print(\"Surplus settlements €: \", e, f\" ({e / (e+p)*100:.2f}) %\")\n",
    "    print(\"Deficit settlements €: \", p, f\" ({p / (e+p)*100:.2f}) %\")\n",
    "    print(\"% of rev: \", (e+p)/(o-(e-p))*100)\n",
    "    print(\"forward €: \", f)\n",
    "    print(\"hydrogen €: \", h)\n",
    "    print(\"Obj: \", o)\n",
    "    print(\"Should-be-obj: \", f+h+e-p)\n",
    "\n",
    "                \n",
    "\n",
    "# print(\"\\nOptimal\")\n",
    "# print_bal_info(result_hs)\n",
    "print(\"\\nDeterministic\")\n",
    "print_bal_info(result_det_strict)\n",
    "print(\"\\nLearned\")\n",
    "print_bal_info(best_res)"
   ],
   "metadata": {
    "collapsed": false
   },
   "execution_count": null,
   "outputs": []
  },
  {
   "cell_type": "markdown",
   "source": [
    "## Price analysis"
   ],
   "metadata": {
    "collapsed": false
   }
  },
  {
   "cell_type": "markdown",
   "source": [
    "##### Formatting price data"
   ],
   "metadata": {
    "collapsed": false
   }
  },
  {
   "cell_type": "code",
   "source": [
    "years = [2019, 2020]\n",
    "yearly_separated_prices = np.array([prices_F[:year], prices_F[year:]])\n",
    "yearly_separated_prices_days = [[], []]\n",
    "\n",
    "# Reformat prices to be an array of days\n",
    "for idx_year, f_prices in enumerate(yearly_separated_prices):\n",
    "    current_day = np.empty(24)\n",
    "    for i, price in enumerate(f_prices):\n",
    "        if i%24 == 0 and i != 0:\n",
    "            yearly_separated_prices_days[idx_year].append(current_day)\n",
    "            current_day = np.empty(24)\n",
    "        current_day[i%24] = price\n",
    "    yearly_separated_prices_days[idx_year].append(current_day)\n",
    "\n",
    "# We now have yearly_separated_prices_days = [[365 days], [366 days]]"
   ],
   "metadata": {
    "collapsed": false
   },
   "execution_count": null,
   "outputs": []
  },
  {
   "cell_type": "markdown",
   "source": [
    "##### Plotting hourly mean prices"
   ],
   "metadata": {
    "collapsed": false
   }
  },
  {
   "cell_type": "code",
   "source": [
    "\n",
    "df_train = pd.DataFrame(yearly_separated_prices_days[0])\n",
    "df_test = pd.DataFrame(yearly_separated_prices_days[1])\n",
    "# lgd = ax.legend(handles, labels, loc='upper center', bbox_to_anchor=(0.5,-0.1))\n",
    "\n",
    "xs = range(24)\n",
    "f = plt.figure()\n",
    "plt.plot(xs, df_train.mean(), label=\"Training period\", color=RED)\n",
    "plt.plot(xs, df_test.mean(), label=\"Testing period\", color=BLUE)\n",
    "plt.xlabel(\"Hour of the day\")\n",
    "plt.ylabel(\"Mean price [€/MWh]\")\n",
    "lgd = plt.legend(loc=(1.05,0.8))\n",
    "# plt.grid()\n",
    "# plt.tight_layout()\n",
    "plt.show()\n",
    "f.savefig('mean_prices.pdf', bbox_extra_artists=(lgd,), bbox_inches='tight')\n"
   ],
   "metadata": {
    "collapsed": false
   },
   "execution_count": null,
   "outputs": []
  },
  {
   "cell_type": "markdown",
   "source": [
    "##### K-medoids clustering"
   ],
   "metadata": {
    "collapsed": false
   }
  },
  {
   "cell_type": "code",
   "source": [
    "#-------------K-medoids clustering--------------------\n",
    "# Find k medoid days in each year\n",
    "k = 2\n",
    "\n",
    "# medoids is an array of depth (2(5(24)))\n",
    "initial_medoids = [price_year[:k] for price_year in yearly_separated_prices_days]\n",
    "final_medoids = []\n",
    "\n",
    "for idx_period, f_prices in enumerate(yearly_separated_prices_days):\n",
    "    data = np.array(yearly_separated_prices_days[idx_period])\n",
    "    KMobj = KMedoids(n_clusters=k).fit(data)\n",
    "    # labels = KMobj.labels_\n",
    "    final_medoids.append(KMobj.cluster_centers_)\n",
    "\n"
   ],
   "metadata": {
    "collapsed": false
   },
   "execution_count": null,
   "outputs": []
  },
  {
   "cell_type": "code",
   "source": [
    "# ---------------Compare medoid days to each other\n",
    "labels = [\"Training period\", \"Testing period\"]\n",
    "dfs = [df_train, df_test]\n",
    "## Plot for each year - good\n",
    "fig, axs = plt.subplots(1, 2, figsize=(15,5))\n",
    "for idx, (mlist, ax) in enumerate(zip(final_medoids, axs)):\n",
    "    ax.set_ylim([0, 250])\n",
    "    ax.set_xlim([0, 23])\n",
    "    for p in yearly_separated_prices_days[idx]:\n",
    "        ax.plot(range(24), p, \"grey\", alpha=0.2)\n",
    "    for m in mlist:\n",
    "        ax.plot(range(24), m)\n",
    "    ax.plot(range(24), dfs[idx].mean(), 'k--', label=\"mean\")\n",
    "    ax.set_title(labels[idx])\n",
    "    ax.set_ylabel(\"Forward price €/MWh\")\n",
    "    ax.set_xlabel(\"Hour of day\")\n",
    "    ax.legend()\n",
    "plt.show()\n",
    "# fig.savefig('k-medoids.pdf')\n"
   ],
   "metadata": {
    "collapsed": false
   },
   "execution_count": null,
   "outputs": []
  },
  {
   "cell_type": "markdown",
   "source": [
    "##### Wasserstein calculations"
   ],
   "metadata": {
    "collapsed": false
   }
  },
  {
   "cell_type": "code",
   "source": [
    "from scipy.stats import wasserstein_distance\n",
    "\n",
    "v_test = np.array([20-i for i in range(10)])\n",
    "u_test = np.array([i for i in range(10)])\n",
    "\n",
    "dist_matrix = np.empty((3,5,5))\n",
    "\n",
    "all_medoids = final_medoids\n",
    "\n",
    "mean_dists = {\n",
    "    \"2019-2020\": 0,\n",
    "    \"2019-2021\": 0,\n",
    "    \"2020-2021\": 0,\n",
    "    \"2020-2021-red\": 0,\n",
    "    \"2019-2021-red\": 0,\n",
    "    \"2021-2021-red\": 0,\n",
    "    \"2019-2019\": 0,\n",
    "    \"2020-2020\": 0,\n",
    "    \"2021-2021\": 0,\n",
    "    \"2021-red-2021-red\": 0\n",
    "}\n",
    "\n",
    "\n",
    "years_list = [[0, 1], [0, 2], [1, 2], [1, 3], [0, 3], [2, 3], [0, 0], [1, 1], [2, 2], [3,3]]\n",
    "\n",
    "for i, key in enumerate(mean_dists.keys()):\n",
    "    for from_idx in range(5):\n",
    "        for to_idx in range(5):\n",
    "            mean_dists[key] += wasserstein_distance(all_medoids[years_list[i][0]][from_idx], all_medoids[years_list[i][1]][to_idx])\n",
    "\n",
    "\n",
    "mean_dists\n",
    "\n",
    "# for y_idx in range(3):\n",
    "#     for i in range(len(yearly_separated_prices_days[years_list[y_idx][0]])):\n",
    "#         for j in range(len(yearly_separated_prices_days[years_list[y_idx][1]])):\n",
    "            "
   ],
   "metadata": {
    "collapsed": false
   },
   "execution_count": null,
   "outputs": []
  },
  {
   "cell_type": "markdown",
   "source": [
    "## Detailed analysis of model output"
   ],
   "metadata": {
    "collapsed": false
   }
  },
  {
   "cell_type": "code",
   "source": [
    "import matplotlib.patches as mpatches\n",
    "from matplotlib.lines import Line2D\n",
    "import matplotlib.transforms as mtrans\n",
    "\n",
    "offset = year\n",
    "prices_F_test = prices_F[offset:]\n",
    "prices_bal_test = [prices_B[offset+i] if round(prices_B[offset+i],0) < round(prices_F[offset+i],0) else prices_S[offset+i] for i in range(len(prices_S)-offset)]\n",
    "prices_B_test = prices_B[offset:]\n",
    "prices_S_test = prices_S[offset:]\n",
    "\n",
    "def plot_res(res):\n",
    "    fig, axs = plt.subplots(1,len(final_medoids[0]), figsize=(7*len(final_medoids[0]),5))\n",
    "    handles = []\n",
    "    fbid = mpatches.Patch(color=CGREEN, label='Forward bid [MWh]')\n",
    "    hydro = mpatches.Patch(color=CBLUE, label='Hydrogen [MWh]')\n",
    "    fprice = Line2D([0], [0], label='Forward price [€/MWh]', color=RED)\n",
    "    fprod = Line2D([0], [0], label='Forecasted prod. [MWh]', color=BLUE)\n",
    "    fprod.set_linestyle('--')\n",
    "    handles.append(fbid) \n",
    "    handles.append(hydro) \n",
    "    handles.append(fprice) \n",
    "    handles.append(fprod) \n",
    "    for plotidx in range(len(final_medoids[0])):\n",
    "        prods_learned = np.empty(24)\n",
    "        forward_learned = np.empty(24)\n",
    "        idx = KMobj.medoid_indices_[plotidx]*24\n",
    "        for i, t in enumerate(range(idx, idx+24)):\n",
    "            h = i%24\n",
    "            prods_learned[h] = res['h_prod'][t]\n",
    "            forward_learned[h] = res['forward_bid'][t]\n",
    "        axs[plotidx].bar(range(24), prods_learned, label=\"Hydrogen\", color=CBLUE)\n",
    "        axs[plotidx].bar(range(24), forward_learned, label=\"Foward bid\", color=CGREEN)\n",
    "        # axs[plotidx].plot(range(24), realized[offset+idx:offset+idx+24], 'r--', label=\"Realized prod.\")\n",
    "        axs[plotidx].plot(range(24), features.loc[offset+idx:offset+idx+23, \"production_FC\"]*10, '--', label=\"Forecasted prod.\")\n",
    "        ax2 = axs[plotidx].twinx()\n",
    "        ax2.plot(range(24), prices_F_test[idx:idx+24], color=RED, label=\"Forward price\")\n",
    "        # ax2.plot(range(24), prices_B_test[idx:idx+24], '*', color=RED, label=\"Deficit price\")\n",
    "        # ax2.plot(range(24), prices_S_test[idx:idx+24], '*', color=RED, label=\"Surplus price\")\n",
    "        ax2.plot(range(24), prices_bal_test[idx:idx+24], '*', color=RED, label=\"Balancing price\")\n",
    "        # fig.tight_layout()\n",
    "        ax2.set_ylabel(\"Price [€/MWh]\")\n",
    "        axs[plotidx].set_ylabel(\"[MWh]\")\n",
    "        axs[plotidx].set_xlabel(\"Hour of the day\")\n",
    "        # fig.legend(bbox_to_anchor=(1.25, 0.85))\n",
    "    fig.legend(handles=handles, bbox_to_anchor=(0.7, 0), ncol=4)\n",
    "    fig.tight_layout()\n",
    "    # Get the bounding boxes of the axes including text decorations\n",
    "    r = fig.canvas.get_renderer()\n",
    "    get_bbox = lambda ax: ax.get_tightbbox(r).transformed(fig.transFigure.inverted())\n",
    "    bboxes = np.array(list(map(get_bbox, axs.flat)), mtrans.Bbox).reshape(axs.shape)\n",
    "    # Draw a horizontal lines at those coordinates\n",
    "    for y in [1/len(final_medoids[0])*(i+1) for i in range(len(final_medoids[0])-1)]:\n",
    "        line = plt.Line2D([y,y],[0,1], transform=fig.transFigure, color=\"grey\", alpha=0.6)\n",
    "        fig.add_artist(line)\n",
    "\n",
    "    fig.show()\n",
    "\n",
    "plot_res(best_res)\n",
    "plot_res(result_det_strict)\n",
    "# plot_res(result_hs)\n"
   ],
   "metadata": {
    "collapsed": false
   },
   "execution_count": null,
   "outputs": []
  },
  {
   "cell_type": "markdown",
   "source": [
    "## Production data analysis"
   ],
   "metadata": {
    "collapsed": false
   }
  },
  {
   "cell_type": "markdown",
   "source": [
    "##### Formatting production data"
   ],
   "metadata": {
    "collapsed": false
   }
  },
  {
   "cell_type": "code",
   "source": [
    "years = [2019, 2020, 2021]\n",
    "#yearly_separated_prods = np.array([realized[:8760], realized[8760:8760+8784], realized[8760+8784:]])\n",
    "yearly_separated_prods = np.array(realized[:8760] + realized[8760:8760+8784] + realized[8760+8784:])\n",
    "yearly_separated_prods_days = [[], [], []]\n",
    "\n",
    "# Reformat prods to be an array of days\n",
    "for idx_year, f_prods in enumerate(yearly_separated_prods):\n",
    "    current_day = np.empty(24)\n",
    "    for i, prod in enumerate(f_prods):\n",
    "        if i%24 == 0 and i != 0:\n",
    "            yearly_separated_prods_days[idx_year].append(current_day)\n",
    "            current_day = np.empty(24)\n",
    "        current_day[i%24] = prod\n",
    "    yearly_separated_prods_days[idx_year].append(current_day)\n",
    "\n",
    "# We now have yearly_separated_prods_days = [[365 days], [366 days], [365 days]]"
   ],
   "metadata": {
    "collapsed": false
   },
   "execution_count": null,
   "outputs": []
  },
  {
   "attachments": {},
   "cell_type": "markdown",
   "metadata": {},
   "source": [
    "##### K-medoids "
   ]
  },
  {
   "cell_type": "code",
   "execution_count": null,
   "metadata": {},
   "source": [
    "#-------------K-medoids clustering--------------------\n",
    "# Find k medoid days in each year\n",
    "k = 6\n",
    "\n",
    "# medoids is an array of depth (3(5(24)))\n",
    "initial_medoids_prods = [prod_year[:k] for prod_year in yearly_separated_prods_days]\n",
    "final_medoids_prods = []\n",
    "\n",
    "for idx_year, f_prices in enumerate(yearly_separated_prods_days):\n",
    "    data = np.array(yearly_separated_prods_days[idx_year])\n",
    "    KMobj = KMedoids(n_clusters=k).fit(data)\n",
    "    # labels = KMobj.labels_\n",
    "    final_medoids_prods.append(KMobj.cluster_centers_)"
   ],
   "outputs": []
  },
  {
   "attachments": {},
   "cell_type": "markdown",
   "metadata": {},
   "source": [
    "##### Plotting results"
   ]
  },
  {
   "cell_type": "code",
   "execution_count": 13,
   "metadata": {},
   "source": [
    "# ---------------Compare medoid days to each other\n",
    "colors = [\"GREEN\", \"BLUE\", \"RED\"]\n",
    "labels = [\"2019\", \"2020\", \"2021\"]\n",
    "\n",
    "## Plot for each year - good\n",
    "fig, axs = plt.subplots(1, 3, figsize=(15,5))\n",
    "for idx, (mlist, ax) in enumerate(zip(final_medoids_prods, axs)):\n",
    "    ax.set_ylim([0, 10])\n",
    "    ax.set_xlim([0, 23])\n",
    "    for p in yearly_separated_prods_days[idx]:\n",
    "        ax.plot(range(24), p, \"grey\", alpha=0.2)\n",
    "    for m in mlist:\n",
    "        ax.plot(range(24), m)\n",
    "    ax.set_title(f\"Plot of {k} medoids for {labels[idx]}\")\n",
    "    ax.set_ylabel(\"Wind production [MW]\")\n",
    "    ax.set_xlabel(\"Hour of day\")\n",
    "plt.show()\n"
   ],
   "outputs": []
  },
  {
   "cell_type": "code",
   "execution_count": null,
   "metadata": {},
   "source": [],
   "outputs": []
  },
  {
   "cell_type": "code",
   "execution_count": null,
   "metadata": {},
   "source": [
    "\n",
    "def plot_example_behavior():\n",
    "    \n",
    "    (prices_B,prices_S,prices_F,prices_bal,forecast,realized,price_H,max_elec,nominal_wind,penalty) = import_consts()\n",
    "\n",
    "    year = 8760\n",
    "\n",
    "    x_fm = pd.read_csv(\"./results/x_fm.csv\")\n",
    "    x_fm1 = x_fm[\"x_fm1\"][-year:].to_numpy()\n",
    "    x_fm2 = x_fm[\"x_fm2\"][-year:].to_numpy()\n",
    "\n",
    "    wind_last_year = realized[-year:]\n",
    "\n",
    "    price_last_year = prices_F[-year:]\n",
    "    hourly_prices = {}\n",
    "    price_counter = 0\n",
    "    hourly_prods = {}\n",
    "    hourly_x1 = {}\n",
    "    hourly_x2 = {}\n",
    "    for i in range(24):\n",
    "        hourly_prices[f\"hour_{i}\"] = 0\n",
    "        hourly_prods[f\"hour_{i}\"] = 0\n",
    "        hourly_x1[f\"hour_{i}\"] = 0\n",
    "        hourly_x2[f\"hour_{i}\"] = 0\n",
    "    for i in range(len(price_last_year)):\n",
    "        # print(\"Tjek pris: \", price_last_year[i])\n",
    "        if (price_last_year[i] > 35.2):\n",
    "            price_counter += 1\n",
    "            hourly_prices[f\"hour_{i % 24}\"] += price_last_year[i]\n",
    "        hourly_prods[f\"hour_{i % 24}\"] += wind_last_year[i]\n",
    "        hourly_x1[f\"hour_{i%24}\"] += x_fm1[i]\n",
    "        hourly_x2[f\"hour_{i%24}\"] += x_fm2[i]\n",
    "\n",
    "    hydrogen = np.zeros(24)\n",
    "    adjustments = np.zeros(24)\n",
    "    \n",
    "    for i in range(24):\n",
    "        hourly_prices[f\"hour_{i}\"] *= 1/(price_counter/24)\n",
    "        hourly_prods[f\"hour_{i}\"] *= 1/(year/24)\n",
    "        hourly_x1[f\"hour_{i}\"] *= 1/(year/24)\n",
    "        hourly_x2[f\"hour_{i}\"] *= 1/(year/24)\n",
    "            \n",
    "\n",
    "    adjustments[2:4] = 10\n",
    "    for i in range(5):\n",
    "        hourly_prices[f\"hour_{i}\"] += 20\n",
    "\n",
    "    for i in range(11, 15):\n",
    "        \n",
    "        hourly_prices[f\"hour_{i}\"] -= 20\n",
    "\n",
    "    hydrogen[12:15] += 10\n",
    "    hydrogen[-2:] += 10\n",
    "    adjustments[-2:] = - 10\n",
    "    prices = hourly_prices.values()\n",
    "    x1s = hourly_x1.values()\n",
    "    x2s = hourly_x2.values()\n",
    "\n",
    "    prices_bal = np.array([hourly_prices[f\"hour_{i}\"] for i in range(24)])\n",
    "    prices_bal[2:4] -= 50\n",
    "\n",
    "    prices_bal[10:14] -= 4\n",
    "    prices_bal[20] += 30\n",
    "    prices_bal[23] += 40\n",
    "    plt.bar(range(24), prices, label=\"Forward prices\")\n",
    "    # plt.bar(range(24), x1s)\n",
    "    plt.plot(range(24), prices_bal, 'r', label=\"Balancing price\")\n",
    "    \n",
    "    plt.bar(range(24), hydrogen, label=\"hydrogen production\")\n",
    "    plt.bar(range(24), adjustments, label=\"Adjustment\")\n",
    "    plt.legend()\n",
    "    plt.title(\"Adjustment example\")\n",
    "\n",
    "    # plt.bar(range(len(price_last_two_months)), price_last_two_months)\n",
    "    # print(\"Hydrogen prouction: \", np.sum(hydrogen))\n",
    "plot_example_behavior()"
   ],
   "outputs": []
  },
  {
   "cell_type": "code",
   "execution_count": null,
   "metadata": {},
   "source": [
    "\n",
    "def plot_example_behavior_no_adj():\n",
    "    \n",
    "    (prices_B,prices_S,prices_F,prices_bal,forecast,realized,price_H,max_elec,nominal_wind,penalty) = import_consts()\n",
    "\n",
    "    year = 8760\n",
    "\n",
    "    x_fm = pd.read_csv(\"./results/x_fm.csv\")\n",
    "    x_fm1 = x_fm[\"x_fm1\"][-year:].to_numpy()\n",
    "    x_fm2 = x_fm[\"x_fm2\"][-year:].to_numpy()\n",
    "\n",
    "    wind_last_year = realized[-year:]\n",
    "\n",
    "    price_last_year = prices_F[-year:]\n",
    "    hourly_prices = {}\n",
    "    price_counter = 0\n",
    "    hourly_prods = {}\n",
    "    hourly_x1 = {}\n",
    "    hourly_x2 = {}\n",
    "    for i in range(24):\n",
    "        hourly_prices[f\"hour_{i}\"] = 0\n",
    "        hourly_prods[f\"hour_{i}\"] = 0\n",
    "        hourly_x1[f\"hour_{i}\"] = 0\n",
    "        hourly_x2[f\"hour_{i}\"] = 0\n",
    "    for i in range(len(price_last_year)):\n",
    "        # print(\"Tjek pris: \", price_last_year[i])\n",
    "        if (price_last_year[i] > 35.2):\n",
    "            price_counter += 1\n",
    "            hourly_prices[f\"hour_{i % 24}\"] += price_last_year[i]\n",
    "        hourly_prods[f\"hour_{i % 24}\"] += wind_last_year[i]\n",
    "        hourly_x1[f\"hour_{i%24}\"] += x_fm1[i]\n",
    "        hourly_x2[f\"hour_{i%24}\"] += x_fm2[i]\n",
    "\n",
    "    hydrogen = np.zeros(24)\n",
    "    adjustments = np.zeros(24)\n",
    "    \n",
    "    for i in range(24):\n",
    "        hourly_prices[f\"hour_{i}\"] *= 1/(price_counter/24)\n",
    "        hourly_prods[f\"hour_{i}\"] *= 1/(year/24)\n",
    "        hourly_x1[f\"hour_{i}\"] *= 1/(year/24)\n",
    "        hourly_x2[f\"hour_{i}\"] *= 1/(year/24)\n",
    "            \n",
    "\n",
    "    adjustments[2:4] = 10\n",
    "    for i in range(5):\n",
    "        hourly_prices[f\"hour_{i}\"] += 20\n",
    "\n",
    "    for i in range(11, 15):\n",
    "        \n",
    "        hourly_prices[f\"hour_{i}\"] -= 20\n",
    "\n",
    "    hydrogen[12:15] += 10\n",
    "    hydrogen[-2:] += 10\n",
    "    adjustments[-2:] = - 10\n",
    "    prices = hourly_prices.values()\n",
    "    x1s = hourly_x1.values()\n",
    "    x2s = hourly_x2.values()\n",
    "\n",
    "    prices_bal = np.array([hourly_prices[f\"hour_{i}\"] for i in range(24)])\n",
    "    prices_bal[2:4] -= 50\n",
    "\n",
    "    prices_bal[10:14] += 30\n",
    "    prices_bal[20] += 30\n",
    "    prices_bal[23] += 40\n",
    "    plt.bar(range(24), prices, label=\"Forward prices\")\n",
    "    # plt.bar(range(24), x1s)\n",
    "    # plt.plot(range(24), prices_bal, 'r', label=\"Balancing price\")\n",
    "    \n",
    "    plt.bar(range(24), hydrogen, label=\"hydrogen production\")\n",
    "    # plt.bar(range(24), adjustments, label=\"Adjustment\")\n",
    "    plt.legend()\n",
    "    plt.title(\"Deterministic example\")\n",
    "\n",
    "    # plt.bar(range(len(price_last_two_months)), price_last_two_months)\n",
    "    # print(\"Hydrogen prouction: \", np.sum(hydrogen))\n",
    "plot_example_behavior_no_adj()"
   ],
   "outputs": []
  },
  {
   "cell_type": "code",
   "execution_count": null,
   "metadata": {},
   "source": [
    "\n",
    "def plot_deterministic_behavior():\n",
    "    \n",
    "    (prices_B,prices_S,prices_F,prices_bal,forecast,realized,price_H,max_elec,nominal_wind,penalty) = import_consts()\n",
    "\n",
    "    year = 8760\n",
    "\n",
    "    x_fm = pd.read_csv(\"./results/x_fm.csv\")\n",
    "    x_fm1 = x_fm[\"x_fm1\"][-year:].to_numpy()\n",
    "    x_fm2 = x_fm[\"x_fm2\"][-year:].to_numpy()\n",
    "\n",
    "    wind_last_year = realized[-year:]\n",
    "\n",
    "    price_last_year = prices_F[-year:]\n",
    "    hourly_prices = {}\n",
    "    price_counter = 0\n",
    "    hourly_prods = {}\n",
    "    hourly_x1 = {}\n",
    "    hourly_x2 = {}\n",
    "    for i in range(24):\n",
    "        hourly_prices[f\"hour_{i}\"] = 0\n",
    "        hourly_prods[f\"hour_{i}\"] = 0\n",
    "        hourly_x1[f\"hour_{i}\"] = 0\n",
    "        hourly_x2[f\"hour_{i}\"] = 0\n",
    "    for i in range(len(price_last_year)):\n",
    "        # print(\"Tjek pris: \", price_last_year[i])\n",
    "        if (price_last_year[i] > 35.2):\n",
    "            price_counter += 1\n",
    "            hourly_prices[f\"hour_{i % 24}\"] += price_last_year[i]\n",
    "        hourly_prods[f\"hour_{i % 24}\"] += wind_last_year[i]\n",
    "        hourly_x1[f\"hour_{i%24}\"] += x_fm1[i]\n",
    "        hourly_x2[f\"hour_{i%24}\"] += x_fm2[i]\n",
    "\n",
    "    hydrogen = np.zeros(24)\n",
    "    \n",
    "    for i in range(24):\n",
    "        hourly_prices[f\"hour_{i}\"] *= 1/(price_counter/24)\n",
    "        hourly_prods[f\"hour_{i}\"] *= 1/(year/24)\n",
    "        hourly_x1[f\"hour_{i}\"] *= 1/(year/24)\n",
    "        hourly_x2[f\"hour_{i}\"] *= 1/(year/24)\n",
    "        if i < 5:\n",
    "            hydrogen[i] += 10\n",
    "\n",
    "\n",
    "    prices = hourly_prices.values()\n",
    "    x1s = hourly_x1.values()\n",
    "    x2s = hourly_x2.values()\n",
    "\n",
    "\n",
    "    plt.bar(range(24), prices, label=\"Forward prices\")\n",
    "    # plt.bar(range(24), x1s)\n",
    "    # plt.bar(range(24), forward, label=\"forward bid\")\n",
    "    plt.bar(range(24), hydrogen, label=\"hydrogen production\")\n",
    "    plt.legend()\n",
    "    plt.title(\"Deterministic behavior\")\n",
    "\n",
    "    # plt.bar(range(len(price_last_two_months)), price_last_two_months)\n",
    "    # print(\"Hydrogen prouction: \", np.sum(hydrogen))\n",
    "\n",
    "\n",
    "plot_deterministic_behavior()"
   ],
   "outputs": []
  },
  {
   "cell_type": "code",
   "execution_count": null,
   "metadata": {},
   "source": [
    "\n",
    "def plot_mean_behavior(df_qs):\n",
    "    \n",
    "    (prices_B,prices_S,prices_F,prices_bal,forecast,realized,price_H,max_elec,nominal_wind,penalty) = import_consts()\n",
    "\n",
    "    year = 8760\n",
    "\n",
    "    x_fm = pd.read_csv(\"./results/x_fm.csv\")\n",
    "    x_fm1 = x_fm[\"x_fm1\"][-year:].to_numpy()\n",
    "    x_fm2 = x_fm[\"x_fm2\"][-year:].to_numpy()\n",
    "\n",
    "    wind_last_year = realized[-year:]\n",
    "\n",
    "    price_last_year = prices_F[-year:]\n",
    "    hourly_prices = {}\n",
    "    price_counter = 0\n",
    "    hourly_prods = {}\n",
    "    hourly_x1 = {}\n",
    "    hourly_x2 = {}\n",
    "    for i in range(24):\n",
    "        hourly_prices[f\"hour_{i}\"] = 0\n",
    "        hourly_prods[f\"hour_{i}\"] = 0\n",
    "        hourly_x1[f\"hour_{i}\"] = 0\n",
    "        hourly_x2[f\"hour_{i}\"] = 0\n",
    "    for i in range(len(price_last_year)):\n",
    "        # print(\"Tjek pris: \", price_last_year[i])\n",
    "        if (price_last_year[i] > 35.2):\n",
    "            price_counter += 1\n",
    "            hourly_prices[f\"hour_{i % 24}\"] += price_last_year[i]\n",
    "        hourly_prods[f\"hour_{i % 24}\"] += wind_last_year[i]\n",
    "        hourly_x1[f\"hour_{i%24}\"] += x_fm1[i]\n",
    "        hourly_x2[f\"hour_{i%24}\"] += x_fm2[i]\n",
    "\n",
    "    for i in range(24):\n",
    "        hourly_prices[f\"hour_{i}\"] *= 1/(price_counter/24)\n",
    "        hourly_prods[f\"hour_{i}\"] *= 1/(year/24)\n",
    "        hourly_x1[f\"hour_{i}\"] *= 1/(year/24)\n",
    "        hourly_x2[f\"hour_{i}\"] *= 1/(year/24)\n",
    "\n",
    "\n",
    "    prices = hourly_prices.values()\n",
    "    prods = hourly_prods.values()\n",
    "    x1s = hourly_x1.values()\n",
    "    x2s = hourly_x2.values()\n",
    "    hydrogen = []\n",
    "    forward = []\n",
    "    for i, prod, price in zip(range(24), x1s, x2s):\n",
    "        hydrogen.append(np.maximum((df_qs[\"qH1\"][i]*prod + df_qs[\"qH2\"][i]*price + df_qs[\"qH3\"][i]),0))\n",
    "        if (price > 35.2):\n",
    "            forward.append(np.maximum((df_qs[\"qF1\"][i]*prod + df_qs[\"qF2\"][i]*price + df_qs[\"qF3\"][i]),0))\n",
    "        else:\n",
    "            forward.append(0)\n",
    "\n",
    "        # print(f'For hour {i}, FC={prod}, FP={price}, FB={(df_qs[\"qF1\"][i]*prod + df_qs[\"qF2\"][i]*price + df_qs[\"qF3\"][i])}, H={(df_qs[\"qH1\"][i]*prod + df_qs[\"qH2\"][i]*price + df_qs[\"qH3\"][i])}')\n",
    "        \n",
    "\n",
    "    balancing_price = np.array([hourly_prices[f\"hour_{i}\"] for i in range(24)])\n",
    "    balancing_price[:5] += 35\n",
    "    balancing_price[11:15] -= 20\n",
    "    plt.bar(range(24), prices, label=\"Forward prices\")\n",
    "    # plt.bar(range(24), x1s)\n",
    "    # plt.bar(range(24), forward, label=\"forward bid\")\n",
    "    plt.plot(range(24), balancing_price, 'r', label=\"balancing price\")\n",
    "    plt.bar(range(24), hydrogen, label=\"hydrogen production\")\n",
    "    plt.legend()\n",
    "    plt.title(\"Learned behavior\")\n",
    "\n",
    "    # plt.bar(range(len(price_last_two_months)), price_last_two_months)\n",
    "    print(\"Hydrogen prouction: \", np.sum(hydrogen))\n",
    "\n",
    "\n",
    "df_initial = pd.read_csv(\"./results/RES_05.2_mo_24_5.csv\")\n",
    "plot_mean_behavior(df_initial)"
   ],
   "outputs": []
  }
 ],
 "metadata": {
  "kernelspec": {
   "display_name": "Python 3",
   "language": "python",
   "name": "python3"
  },
  "language_info": {
   "codemirror_mode": {
    "name": "ipython",
    "version": 3
   },
   "file_extension": ".py",
   "mimetype": "text/x-python",
   "name": "python",
   "nbconvert_exporter": "python",
   "pygments_lexer": "ipython3",
   "version": "3.10.5"
  },
  "orig_nbformat": 4,
  "vscode": {
   "interpreter": {
    "hash": "369f2c481f4da34e4445cda3fffd2e751bd1c4d706f27375911949ba6bb62e1c"
   }
  }
 },
 "nbformat": 4,
 "nbformat_minor": 2
}
