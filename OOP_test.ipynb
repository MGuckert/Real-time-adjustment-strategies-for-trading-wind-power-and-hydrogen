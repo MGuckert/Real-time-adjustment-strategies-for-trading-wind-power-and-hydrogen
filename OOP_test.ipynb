{
 "cells": [
  {
   "cell_type": "code",
   "id": "initial_id",
   "metadata": {
    "collapsed": true,
    "ExecuteTime": {
     "end_time": "2024-06-19T11:50:55.888209Z",
     "start_time": "2024-06-19T11:50:55.884871Z"
    }
   },
   "source": [
    "import numpy as np\n",
    "import matplotlib.pyplot as plt\n",
    "import pandas as pd\n",
    "import subprocess\n",
    "import re"
   ],
   "outputs": [],
   "execution_count": 2
  },
  {
   "metadata": {},
   "cell_type": "code",
   "outputs": [],
   "execution_count": 7,
   "source": [
    "def modify_data_loader(h_min, data_loader_path):\n",
    "    with open(data_loader_path, 'r') as file:\n",
    "        file_data = file.read()\n",
    "\n",
    "    # Use regex to find and replace the h_min value\n",
    "    new_file_data = re.sub(r\"min_production = \\d+\\.\\d+\", f\"min_production = {h_min}\", file_data)\n",
    "\n",
    "    with open(data_loader_path, 'w') as file:\n",
    "        file.write(new_file_data)\n",
    "        \n",
    "modify_data_loader(50.0, 'models/2020/data_loader_2020.jl')"
   ],
   "id": "2bf7ddd3c027055b"
  },
  {
   "metadata": {},
   "cell_type": "code",
   "outputs": [],
   "execution_count": null,
   "source": [
    "class Simulation:\n",
    "    def __init__(self, h_min, p_h, price_h):\n",
    "        self.h_min = h_min\n",
    "        self.p_h = p_h\n",
    "        self.price_h = price_h\n",
    "        self.h = h_min\n",
    "        \n",
    "    "
   ],
   "id": "b6b00bf9574c186c"
  }
 ],
 "metadata": {
  "kernelspec": {
   "display_name": "Python 3",
   "language": "python",
   "name": "python3"
  },
  "language_info": {
   "codemirror_mode": {
    "name": "ipython",
    "version": 2
   },
   "file_extension": ".py",
   "mimetype": "text/x-python",
   "name": "python",
   "nbconvert_exporter": "python",
   "pygments_lexer": "ipython2",
   "version": "2.7.6"
  }
 },
 "nbformat": 4,
 "nbformat_minor": 5
}
