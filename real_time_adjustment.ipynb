{
 "cells": [
  {
   "cell_type": "markdown",
   "source": [
    "# Real Time Adjustment"
   ],
   "metadata": {
    "collapsed": false
   },
   "id": "3dd558725d2ae7d6"
  },
  {
   "cell_type": "code",
   "source": [
    "import pandas as pd\n",
    "import numpy as np\n",
    "import matplotlib.pyplot as plt\n",
    "import copy\n",
    "import ast\n",
    "import csv\n",
    "\n",
    "%load_ext autoreload\n",
    "%autoreload 2\n",
    "\n",
    "from constants import *\n",
    "from real_time_adj_original import *\n",
    "from evaluation import *\n",
    "from constants import *"
   ],
   "metadata": {
    "collapsed": false,
    "ExecuteTime": {
     "end_time": "2024-05-31T07:26:59.852477Z",
     "start_time": "2024-05-31T07:26:59.774691Z"
    }
   },
   "id": "d2aad5f846f5af92",
   "execution_count": 69,
   "outputs": []
  },
  {
   "cell_type": "markdown",
   "source": [
    "## Load Data"
   ],
   "metadata": {
    "collapsed": false
   },
   "id": "9b1e968ec40af06e"
  },
  {
   "cell_type": "code",
   "source": [
    "def build_dataset(start_date='01-01-2022', end_date='12-30-2022'):\n",
    "    prices = pd.read_csv('./data/2020_data.csv', index_col=0)[HOURS_PER_MONTH:]\n",
    "    prices.index = pd.date_range(start='01-31-2021', periods=len(prices), freq='h')\n",
    "    prices = prices[start_date:end_date]\n",
    "    prices = prices.drop(columns=['production_FC','Offshore DK1', 'Offshore DK2', 'Onshore DK1', 'Onshore DK2'])\n",
    "    prices['production_RE'] *= NOMINAL_WIND\n",
    "    forecasts = pd.read_csv('./forecasting/rolling_forecasts_2021_2022.csv', index_col=0)\n",
    "    forecasts.index = pd.date_range(start='01-31-2021', periods=len(forecasts), freq='h')\n",
    "    forecasts = forecasts[start_date:end_date]\n",
    "    forecasts *= NOMINAL_WIND\n",
    "    forecasts = forecasts.clip(0)\n",
    "    # For each row, create a list that contains the values of the 24 forecast columns, and add it to a new column\n",
    "    forecasts['production_FC'] = forecasts.apply(lambda row: [row['FC_{i}h'.format(i=i)] for i in range(1, 25)], axis=1)\n",
    "    forecasts = forecasts.drop(columns=[f'FC_{i}h' for i in range(1, 25)])\n",
    "    dataset = pd.concat([prices, forecasts], axis=1)\n",
    "    return dataset\n",
    "\n",
    "data = build_dataset()\n",
    "display(data)"
   ],
   "metadata": {
    "collapsed": false,
    "ExecuteTime": {
     "end_time": "2024-05-31T07:27:00.625389Z",
     "start_time": "2024-05-31T07:27:00.077135Z"
    }
   },
   "id": "d310afdf56ff3119",
   "execution_count": 70,
   "outputs": []
  },
  {
   "cell_type": "code",
   "source": [
    "def import_data(start_date='01-01-2022', end_date='12-30-2022'):\n",
    "    data = build_dataset(start_date, end_date)\n",
    "    prices_B = np.maximum(data[\"UP\"].to_numpy(), 0)\n",
    "    prices_S = np.maximum(data[\"DW\"].to_numpy(), 0)\n",
    "    prices_F = np.maximum(data[\"forward_RE\"].to_numpy(), 0)\n",
    "    prices_forecast = np.maximum(data[\"forward_FC\"].to_numpy(), 0)\n",
    "    realized = data.loc[:, \"production_RE\"].to_numpy()\n",
    "    # Make a column that is a list of the 24h forecasts\n",
    "    power_forecasts = data.loc[:, \"production_FC\"].to_numpy()\n",
    "    penalty = np.quantile(prices_B, 0.95)\n",
    "    \n",
    "    return (prices_B, prices_S, prices_F, prices_forecast, realized, power_forecasts, penalty)\n",
    "\n",
    "(prices_B, prices_S, prices_F, prices_forecast, realized, power_forecasts, penalty) = import_data()\n",
    "\n",
    "display(prices_B, prices_S, prices_F, prices_forecast, realized, power_forecasts, penalty)"
   ],
   "metadata": {
    "collapsed": false,
    "ExecuteTime": {
     "end_time": "2024-05-31T07:27:01.182357Z",
     "start_time": "2024-05-31T07:27:00.625389Z"
    }
   },
   "id": "41ee1e9b9019403c",
   "execution_count": 71,
   "outputs": []
  },
  {
   "cell_type": "code",
   "source": [
    "import gurobipy as gp\n",
    "from gurobipy import GRB"
   ],
   "metadata": {
    "collapsed": false,
    "ExecuteTime": {
     "end_time": "2024-05-31T07:27:01.258294Z",
     "start_time": "2024-05-31T07:27:01.182357Z"
    }
   },
   "id": "9c81807593d6b90e",
   "execution_count": 72,
   "outputs": []
  },
  {
   "metadata": {},
   "cell_type": "markdown",
   "source": "## Hindsight ",
   "id": "5565689aa5b15cb9"
  },
  {
   "metadata": {
    "ExecuteTime": {
     "end_time": "2024-05-31T10:53:24.815564Z",
     "start_time": "2024-05-31T10:53:24.683898Z"
    }
   },
   "cell_type": "code",
   "source": [
    "df_hindsight = pd.read_csv(\"./results/2020/Hindsight.csv\")\n",
    "display(df_hindsight)\n",
    "\n",
    "result_hindsight = test_fixed(df_hindsight['forward bid'], df_hindsight['hydrogen production'], HOURS_PER_YEAR, HOURS_PER_YEAR + 1*HOURS_PER_DAY)\n",
    "print(f\"Hindsight: {np.sum(result_hindsight['obj'])}\")"
   ],
   "id": "af0550314f6014bb",
   "execution_count": 166,
   "outputs": []
  },
  {
   "cell_type": "markdown",
   "source": [
    "## HAPD-AF-12"
   ],
   "metadata": {
    "collapsed": false
   },
   "id": "c30099256e1d6b7c"
  },
  {
   "cell_type": "code",
   "source": [
    "df_hapd_af_12 = pd.read_csv(\"./results/2020/HAPD-AF-12.csv\")\n",
    "\n",
    "result_hapd_af_12 = test_price_domain(df_hapd_af_12, HOURS_PER_YEAR, HOURS_PER_YEAR + 5*HOURS_PER_DAY)\n",
    "print(f\"HAPD-AF-12: {np.sum(result_hapd_af_12['obj'])}\")\n",
    "print(result_hapd_af_12['h_prod'])"
   ],
   "metadata": {
    "collapsed": false,
    "ExecuteTime": {
     "end_time": "2024-05-31T09:14:48.851570Z",
     "start_time": "2024-05-31T09:14:48.604170Z"
    }
   },
   "id": "6e4f64782935785c",
   "execution_count": 151,
   "outputs": []
  },
  {
   "metadata": {
    "ExecuteTime": {
     "end_time": "2024-05-31T09:14:49.115737Z",
     "start_time": "2024-05-31T09:14:49.036342Z"
    }
   },
   "cell_type": "code",
   "source": [
    "def objective(t, hours_left, p_adj, up, dw, forward_bids):\n",
    "    # t is the current time\n",
    "    (prices_B, prices_S, prices_F, prices_forecast, realized, power_forecasts, penalty) = import_data()\n",
    "\n",
    "    obj = gp.LinExpr()\n",
    "    for i, j in enumerate(range(t, t + hours_left)):\n",
    "        h_adj = p_adj[i]\n",
    "        obj += (\n",
    "                forward_bids[j] * prices_F[j]\n",
    "                + PRICE_H * h_adj\n",
    "                + dw[i] * prices_S[j]\n",
    "                - up[i] * prices_B[j]\n",
    "        )\n",
    "    return obj"
   ],
   "id": "a7c8574898e39d15",
   "execution_count": 152,
   "outputs": []
  },
  {
   "metadata": {
    "ExecuteTime": {
     "end_time": "2024-05-31T09:14:49.645499Z",
     "start_time": "2024-05-31T09:14:49.554906Z"
    }
   },
   "cell_type": "code",
   "source": [
    "def MPC_adjustment(results_to_copy, idx_start, idx_end, printing=False):\n",
    "    results = copy.deepcopy(results_to_copy)\n",
    "    \n",
    "    (prices_B, prices_S, prices_F, prices_forecast, realized, power_forecasts, penalty) = import_data()\n",
    "    \n",
    "    print(\"realized: \", realized)\n",
    "    print(\"forward_bids: \", results['forward_bid'])\n",
    "    print(\"prices_F: \", prices_F)\n",
    "    print(\"prices_B: \", prices_B[:24])\n",
    "    print(\"prices_S: \", prices_S)\n",
    "\n",
    "    ds = []\n",
    "    h_prods = []\n",
    "    ups = []\n",
    "    dws = []\n",
    "    objs = []\n",
    "    missing_productions = []\n",
    "    missing_production = 0\n",
    "    daily_count = 0\n",
    "\n",
    "    forward_bids = results['forward_bid']\n",
    "    \n",
    "    for t in range(idx_start, idx_end):\n",
    "        i = t % 24\n",
    "        if i == 0:\n",
    "            print(f\"Day {t // 24 + 1}\")\n",
    "        if (i == 0) and t != idx_start:\n",
    "            missing_production = np.maximum(H_MIN - daily_count, 0)\n",
    "            daily_count = 0\n",
    "            \n",
    "        d = realized[t] - forward_bids[t]\n",
    "\n",
    "        hours_left = 24 - i \n",
    "        m = gp.Model('Real Time Adjustment')\n",
    "\n",
    "        # Variables\n",
    "        p_adj = m.addMVar(shape=hours_left, vtype=GRB.CONTINUOUS, name='p_adj', lb=0.0, ub=P_H)\n",
    "        up = m.addMVar(shape=hours_left, vtype=GRB.CONTINUOUS, name='up', lb=0.0)\n",
    "        dw = m.addMVar(shape=hours_left, vtype=GRB.CONTINUOUS, name='dw', lb=0.0)\n",
    "        up_aux = m.addMVar(shape=hours_left, vtype=GRB.CONTINUOUS, name='up_aux',lb=-GRB.INFINITY)\n",
    "        dw_aux = m.addMVar(shape=hours_left, vtype=GRB.CONTINUOUS, name='dw_aux',lb=-GRB.INFINITY)\n",
    "\n",
    "        # Objective\n",
    "        print(\"t: \", t, \"hours_left: \", hours_left)\n",
    "        m.setObjective(objective(t,hours_left, p_adj, up, dw, forward_bids), GRB.MAXIMIZE)\n",
    "\n",
    "        # Constraints\n",
    "        m.addConstr(H_MIN <= p_adj.sum() + daily_count, 'Daily Production')\n",
    "\n",
    "        for j in range(hours_left):\n",
    "            print(\"i+j, realized, forward bid:\", i+j, realized[t+j], forward_bids[t+j])\n",
    "            m.addConstr(p_adj[j] <= P_H, f'p_adj_{j}')\n",
    "            if j == 0:\n",
    "                settlement = realized[t+j] - forward_bids[t+j] - p_adj[j]\n",
    "            else:\n",
    "                settlement = power_forecasts[t][j] - forward_bids[t+j] - p_adj[j]\n",
    "            m.addConstr(up_aux[j] == -settlement, f'up_aux_{j}')\n",
    "            m.addConstr(dw_aux[j] == settlement, f'dw_aux_{j}')\n",
    "            m.addGenConstrMax(up[j], [0, up_aux[j]], name=f'up_{j}')\n",
    "            m.addGenConstrMax(dw[j], [0, dw_aux[j]], name=f'dw_{j}')\n",
    "\n",
    "        m.setParam('OutputFlag', 0)\n",
    "        m.setParam('DualReductions', 0)\n",
    "        m.optimize()\n",
    "        \n",
    "        if m.status != GRB.OPTIMAL:\n",
    "            print(f\"Optimization failed at {t}\")\n",
    "            print(m.status)\n",
    "            print(m.computeIIS())\n",
    "            break\n",
    "        \n",
    "        for j in range(hours_left):\n",
    "            print(f\"p_adj_{i}: {p_adj[j].x}\")\n",
    "            print(f\"up_{i}: {up[j].x}\")\n",
    "            print(f\"dw_{i}: {dw[j].x}\")\n",
    "        \n",
    "        h_adj = p_adj[0].x\n",
    "        \n",
    "        h_adj = np.maximum(0, h_adj)\n",
    "        h_adj = np.minimum(P_H, h_adj)\n",
    "        daily_count += h_adj\n",
    "        print(\"forward_bids: \", forward_bids[t])\n",
    "        print(\"realized: \", realized[t])\n",
    "        settlement = realized[t] - forward_bids[t] - h_adj\n",
    "        print(\"settlement: \", settlement)\n",
    "        print('forward_price: ', prices_F[t])\n",
    "        print('buy_price: ', prices_B[t])\n",
    "        print('sell_price: ', prices_S[t])\n",
    "        print(\"daily_count: \", daily_count)\n",
    "        print(\"missing_production: \", missing_production)\n",
    "        print(\"adjustment: \", h_adj)\n",
    "        up = np.maximum(-settlement, 0)\n",
    "        dw = np.maximum(settlement, 0)\n",
    "        obj = (\n",
    "                forward_bids[t] * prices_F[t]\n",
    "                + PRICE_H * h_adj\n",
    "                + dw * prices_S[t]\n",
    "                - up * prices_B[t]\n",
    "                - missing_production * penalty\n",
    "        )\n",
    "        print(\"obj: \", obj)\n",
    "    \n",
    "    # Compute the objective with the adjusted production\n",
    "\n",
    "        ds.append(d)\n",
    "        h_prods.append(h_adj)\n",
    "        ups.append(up)\n",
    "        dws.append(dw)\n",
    "        missing_productions.append(missing_production)\n",
    "        missing_production = 0\n",
    "        objs.append(obj)\n",
    "    \n",
    "    results['d'] = ds\n",
    "    results['h_prod'] = h_prods\n",
    "    results['up'] = ups\n",
    "    results['dw'] = dws\n",
    "    results['missing_production'] = missing_productions\n",
    "    results['obj'] = objs\n",
    "    \n",
    "    return results"
   ],
   "id": "8bc057638f6046a2",
   "execution_count": 153,
   "outputs": []
  },
  {
   "metadata": {
    "ExecuteTime": {
     "end_time": "2024-05-31T09:15:56.762618Z",
     "start_time": "2024-05-31T09:14:55.259789Z"
    }
   },
   "cell_type": "code",
   "source": "result_mpc = MPC_adjustment(result_hapd_af_12, 0, 5*HOURS_PER_DAY)",
   "id": "52ff85e3aa530bf7",
   "execution_count": 155,
   "outputs": []
  },
  {
   "metadata": {
    "ExecuteTime": {
     "end_time": "2024-05-31T09:15:56.838582Z",
     "start_time": "2024-05-31T09:15:56.762618Z"
    }
   },
   "cell_type": "code",
   "source": [
    "print(f\"MPC: {np.sum(result_mpc['obj'])}\")\n",
    "print(result_mpc['h_prod'])\n",
    "print(result_mpc['obj'])\n",
    "print(result_mpc['dw'])\n",
    "print(result_mpc['up'])"
   ],
   "id": "23a75273dd443f45",
   "execution_count": 156,
   "outputs": []
  },
  {
   "metadata": {
    "ExecuteTime": {
     "end_time": "2024-05-31T09:15:56.951865Z",
     "start_time": "2024-05-31T09:15:56.840004Z"
    }
   },
   "cell_type": "code",
   "source": [
    "result_original = apply_up_and_dw_adj(result_hapd_af_12, HOURS_PER_YEAR, HOURS_PER_YEAR + 5*HOURS_PER_DAY,printing=True)\n",
    "print(f\"Original: {np.sum(result_original['obj'])}\")\n",
    "print(result_original['h_prod'])"
   ],
   "id": "23619a47d1d44ae",
   "execution_count": 157,
   "outputs": []
  },
  {
   "metadata": {
    "ExecuteTime": {
     "end_time": "2024-05-31T09:16:17.245293Z",
     "start_time": "2024-05-31T09:16:17.148603Z"
    }
   },
   "cell_type": "code",
   "source": "print([result_original['h_prod'][i] - result_mpc['h_prod'][i] for i in range(5*HOURS_PER_DAY)])",
   "id": "8102b344c07a850a",
   "execution_count": 159,
   "outputs": []
  }
 ],
 "metadata": {
  "kernelspec": {
   "display_name": "Python 3",
   "language": "python",
   "name": "python3"
  },
  "language_info": {
   "codemirror_mode": {
    "name": "ipython",
    "version": 2
   },
   "file_extension": ".py",
   "mimetype": "text/x-python",
   "name": "python",
   "nbconvert_exporter": "python",
   "pygments_lexer": "ipython2",
   "version": "2.7.6"
  }
 },
 "nbformat": 4,
 "nbformat_minor": 5
}
