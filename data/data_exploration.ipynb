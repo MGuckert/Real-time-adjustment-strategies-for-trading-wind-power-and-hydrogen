{
 "cells": [
  {
   "cell_type": "code",
   "id": "initial_id",
   "metadata": {
    "collapsed": true,
    "ExecuteTime": {
     "end_time": "2024-06-20T11:59:20.845138Z",
     "start_time": "2024-06-20T11:59:20.840559Z"
    }
   },
   "source": [
    "import pandas as pd\n",
    "import numpy as np\n",
    "import matplotlib.pyplot as plt"
   ],
   "outputs": [],
   "execution_count": 1
  },
  {
   "metadata": {
    "ExecuteTime": {
     "end_time": "2024-06-20T12:11:48.452122Z",
     "start_time": "2024-06-20T12:11:48.415193Z"
    }
   },
   "cell_type": "code",
   "source": [
    "df = pd.read_csv('./2020_data.csv', index_col=0)\n",
    "display(df.head(100))"
   ],
   "id": "9734d475a1a10947",
   "outputs": [
    {
     "data": {
      "text/plain": [
       "    forward_RE  forward_FC     UP     DW  production_RE  production_FC  \\\n",
       "0        28.32   35.395866  28.32  28.32       0.995098       1.000000   \n",
       "1        10.07   35.127035  10.07  10.07       1.000000       1.000000   \n",
       "2        -4.08   -3.707266  -4.08  -4.08       1.000000       0.776486   \n",
       "3        -9.91  -17.375766  -9.91  -9.91       0.995098       0.935938   \n",
       "4        -7.41   -7.552286  -7.41  -7.41       1.000000       1.000000   \n",
       "..         ...         ...    ...    ...            ...            ...   \n",
       "95       31.41   31.575463  31.41  31.41       0.970588       0.890949   \n",
       "96       26.90   23.701065  26.90  26.90       0.970588       0.905371   \n",
       "97       25.12   28.858259  25.12  25.12       0.946078       1.000000   \n",
       "98       24.12  -40.398465  24.12  24.12       0.735294       0.483009   \n",
       "99       22.04   19.528881  22.04  22.04       0.666667       0.517997   \n",
       "\n",
       "    Offshore DK2  Offshore DK1  Onshore DK2  Onshore DK1  \n",
       "0       0.274701      0.506045     0.680247     0.659599  \n",
       "1       0.356135      0.541451     0.796296     0.671060  \n",
       "2       0.279045      0.219344     0.728395     0.638109  \n",
       "3       0.228013      0.201209     0.698765     0.619771  \n",
       "4       0.221498      0.201209     0.690123     0.604011  \n",
       "..           ...           ...          ...          ...  \n",
       "95      0.296417      0.438687     0.381481     0.633524  \n",
       "96      0.307275      0.535406     0.432099     0.637249  \n",
       "97      0.300760      0.531952     0.417284     0.611748  \n",
       "98      0.293160      0.514680     0.400000     0.570201  \n",
       "99      0.281216      0.484456     0.366667     0.542980  \n",
       "\n",
       "[100 rows x 10 columns]"
      ],
      "text/html": [
       "<div>\n",
       "<style scoped>\n",
       "    .dataframe tbody tr th:only-of-type {\n",
       "        vertical-align: middle;\n",
       "    }\n",
       "\n",
       "    .dataframe tbody tr th {\n",
       "        vertical-align: top;\n",
       "    }\n",
       "\n",
       "    .dataframe thead th {\n",
       "        text-align: right;\n",
       "    }\n",
       "</style>\n",
       "<table border=\"1\" class=\"dataframe\">\n",
       "  <thead>\n",
       "    <tr style=\"text-align: right;\">\n",
       "      <th></th>\n",
       "      <th>forward_RE</th>\n",
       "      <th>forward_FC</th>\n",
       "      <th>UP</th>\n",
       "      <th>DW</th>\n",
       "      <th>production_RE</th>\n",
       "      <th>production_FC</th>\n",
       "      <th>Offshore DK2</th>\n",
       "      <th>Offshore DK1</th>\n",
       "      <th>Onshore DK2</th>\n",
       "      <th>Onshore DK1</th>\n",
       "    </tr>\n",
       "  </thead>\n",
       "  <tbody>\n",
       "    <tr>\n",
       "      <th>0</th>\n",
       "      <td>28.32</td>\n",
       "      <td>35.395866</td>\n",
       "      <td>28.32</td>\n",
       "      <td>28.32</td>\n",
       "      <td>0.995098</td>\n",
       "      <td>1.000000</td>\n",
       "      <td>0.274701</td>\n",
       "      <td>0.506045</td>\n",
       "      <td>0.680247</td>\n",
       "      <td>0.659599</td>\n",
       "    </tr>\n",
       "    <tr>\n",
       "      <th>1</th>\n",
       "      <td>10.07</td>\n",
       "      <td>35.127035</td>\n",
       "      <td>10.07</td>\n",
       "      <td>10.07</td>\n",
       "      <td>1.000000</td>\n",
       "      <td>1.000000</td>\n",
       "      <td>0.356135</td>\n",
       "      <td>0.541451</td>\n",
       "      <td>0.796296</td>\n",
       "      <td>0.671060</td>\n",
       "    </tr>\n",
       "    <tr>\n",
       "      <th>2</th>\n",
       "      <td>-4.08</td>\n",
       "      <td>-3.707266</td>\n",
       "      <td>-4.08</td>\n",
       "      <td>-4.08</td>\n",
       "      <td>1.000000</td>\n",
       "      <td>0.776486</td>\n",
       "      <td>0.279045</td>\n",
       "      <td>0.219344</td>\n",
       "      <td>0.728395</td>\n",
       "      <td>0.638109</td>\n",
       "    </tr>\n",
       "    <tr>\n",
       "      <th>3</th>\n",
       "      <td>-9.91</td>\n",
       "      <td>-17.375766</td>\n",
       "      <td>-9.91</td>\n",
       "      <td>-9.91</td>\n",
       "      <td>0.995098</td>\n",
       "      <td>0.935938</td>\n",
       "      <td>0.228013</td>\n",
       "      <td>0.201209</td>\n",
       "      <td>0.698765</td>\n",
       "      <td>0.619771</td>\n",
       "    </tr>\n",
       "    <tr>\n",
       "      <th>4</th>\n",
       "      <td>-7.41</td>\n",
       "      <td>-7.552286</td>\n",
       "      <td>-7.41</td>\n",
       "      <td>-7.41</td>\n",
       "      <td>1.000000</td>\n",
       "      <td>1.000000</td>\n",
       "      <td>0.221498</td>\n",
       "      <td>0.201209</td>\n",
       "      <td>0.690123</td>\n",
       "      <td>0.604011</td>\n",
       "    </tr>\n",
       "    <tr>\n",
       "      <th>...</th>\n",
       "      <td>...</td>\n",
       "      <td>...</td>\n",
       "      <td>...</td>\n",
       "      <td>...</td>\n",
       "      <td>...</td>\n",
       "      <td>...</td>\n",
       "      <td>...</td>\n",
       "      <td>...</td>\n",
       "      <td>...</td>\n",
       "      <td>...</td>\n",
       "    </tr>\n",
       "    <tr>\n",
       "      <th>95</th>\n",
       "      <td>31.41</td>\n",
       "      <td>31.575463</td>\n",
       "      <td>31.41</td>\n",
       "      <td>31.41</td>\n",
       "      <td>0.970588</td>\n",
       "      <td>0.890949</td>\n",
       "      <td>0.296417</td>\n",
       "      <td>0.438687</td>\n",
       "      <td>0.381481</td>\n",
       "      <td>0.633524</td>\n",
       "    </tr>\n",
       "    <tr>\n",
       "      <th>96</th>\n",
       "      <td>26.90</td>\n",
       "      <td>23.701065</td>\n",
       "      <td>26.90</td>\n",
       "      <td>26.90</td>\n",
       "      <td>0.970588</td>\n",
       "      <td>0.905371</td>\n",
       "      <td>0.307275</td>\n",
       "      <td>0.535406</td>\n",
       "      <td>0.432099</td>\n",
       "      <td>0.637249</td>\n",
       "    </tr>\n",
       "    <tr>\n",
       "      <th>97</th>\n",
       "      <td>25.12</td>\n",
       "      <td>28.858259</td>\n",
       "      <td>25.12</td>\n",
       "      <td>25.12</td>\n",
       "      <td>0.946078</td>\n",
       "      <td>1.000000</td>\n",
       "      <td>0.300760</td>\n",
       "      <td>0.531952</td>\n",
       "      <td>0.417284</td>\n",
       "      <td>0.611748</td>\n",
       "    </tr>\n",
       "    <tr>\n",
       "      <th>98</th>\n",
       "      <td>24.12</td>\n",
       "      <td>-40.398465</td>\n",
       "      <td>24.12</td>\n",
       "      <td>24.12</td>\n",
       "      <td>0.735294</td>\n",
       "      <td>0.483009</td>\n",
       "      <td>0.293160</td>\n",
       "      <td>0.514680</td>\n",
       "      <td>0.400000</td>\n",
       "      <td>0.570201</td>\n",
       "    </tr>\n",
       "    <tr>\n",
       "      <th>99</th>\n",
       "      <td>22.04</td>\n",
       "      <td>19.528881</td>\n",
       "      <td>22.04</td>\n",
       "      <td>22.04</td>\n",
       "      <td>0.666667</td>\n",
       "      <td>0.517997</td>\n",
       "      <td>0.281216</td>\n",
       "      <td>0.484456</td>\n",
       "      <td>0.366667</td>\n",
       "      <td>0.542980</td>\n",
       "    </tr>\n",
       "  </tbody>\n",
       "</table>\n",
       "<p>100 rows × 10 columns</p>\n",
       "</div>"
      ]
     },
     "metadata": {},
     "output_type": "display_data"
    }
   ],
   "execution_count": 40
  },
  {
   "metadata": {
    "ExecuteTime": {
     "end_time": "2024-06-20T12:11:12.253052Z",
     "start_time": "2024-06-20T12:11:11.940693Z"
    }
   },
   "cell_type": "code",
   "source": [
    "# Investigate the UP and DOWN columns (mean, distribution, etc.)\n",
    "print(df['UP'].mean())\n",
    "print(df['DW'].mean())\n",
    "\n",
    "# Plot the distribution of UP and DOWN\n",
    "plt.figure()\n",
    "plt.hist(df['UP'], bins=100, alpha=0.5, label='UP')\n",
    "plt.hist(df['DW'], bins=100, alpha=0.5, label='DOWN')\n",
    "plt.xlim(-25, 200)\n",
    "plt.legend(loc='upper right')\n",
    "plt.show()"
   ],
   "id": "96ff8a87800ee181",
   "outputs": [
    {
     "name": "stdout",
     "output_type": "stream",
     "text": [
      "40.28497089041095\n",
      "28.93079908675799\n"
     ]
    },
    {
     "data": {
      "text/plain": [
       "<Figure size 640x480 with 1 Axes>"
      ],
      "image/png": "[encoded data removed]"
     },
     "metadata": {},
     "output_type": "display_data"
    }
   ],
   "execution_count": 36
  },
  {
   "metadata": {
    "ExecuteTime": {
     "end_time": "2024-06-20T12:11:12.389334Z",
     "start_time": "2024-06-20T12:11:12.380130Z"
    }
   },
   "cell_type": "code",
   "source": [
    "nb_hours_balanced = df[df['UP'] == df['DW']].shape[0]\n",
    "print(f'Number of hours with balanced UP and DOWN: {nb_hours_balanced}')\n",
    "print(f'Number of hours with a lack of electricity: {df[df[\"UP\"] < df[\"DW\"]].shape[0]}')\n",
    "print(f'Number of hours with a surplus of electricity: {df[df[\"UP\"] > df[\"DW\"]].shape[0]}')"
   ],
   "id": "8c9ad7bd412da717",
   "outputs": [
    {
     "name": "stdout",
     "output_type": "stream",
     "text": [
      "Number of hours with balanced UP and DOWN: 6044\n",
      "Number of hours with a lack of electricity: 0\n",
      "Number of hours with a surplus of electricity: 11476\n"
     ]
    }
   ],
   "execution_count": 37
  },
  {
   "metadata": {},
   "cell_type": "code",
   "outputs": [],
   "execution_count": null,
   "source": "",
   "id": "bcef4e50a35cda99"
  }
 ],
 "metadata": {
  "kernelspec": {
   "display_name": "Python 3",
   "language": "python",
   "name": "python3"
  },
  "language_info": {
   "codemirror_mode": {
    "name": "ipython",
    "version": 2
   },
   "file_extension": ".py",
   "mimetype": "text/x-python",
   "name": "python",
   "nbconvert_exporter": "python",
   "pygments_lexer": "ipython2",
   "version": "2.7.6"
  }
 },
 "nbformat": 4,
 "nbformat_minor": 5
}
