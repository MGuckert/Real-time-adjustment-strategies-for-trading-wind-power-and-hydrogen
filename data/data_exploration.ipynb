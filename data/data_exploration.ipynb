{
 "cells": [
  {
   "cell_type": "code",
   "id": "initial_id",
   "metadata": {
    "collapsed": true,
    "ExecuteTime": {
     "end_time": "2024-07-09T08:20:56.833353Z",
     "start_time": "2024-07-09T08:20:56.082700Z"
    }
   },
   "source": [
    "import pandas as pd\n",
    "import numpy as np\n",
    "import matplotlib.pyplot as plt"
   ],
   "outputs": [],
   "execution_count": 2
  },
  {
   "metadata": {
    "ExecuteTime": {
     "end_time": "2024-07-09T08:35:10.377612Z",
     "start_time": "2024-07-09T08:35:10.353357Z"
    }
   },
   "cell_type": "code",
   "source": [
    "df = pd.read_csv('2019_2020/2020_data_with_imbalance.csv', index_col=0)\n",
    "display(df.head())"
   ],
   "id": "9734d475a1a10947",
   "outputs": [
    {
     "data": {
      "text/plain": [
       "   forward_RE  prices_SB  prices_diff  day_ahead_gen  day_ahead_solar_gen  \\\n",
       "0       28.32      28.32          0.0           1412                  0.0   \n",
       "1       10.07      10.07          0.0           1277                  0.0   \n",
       "2       -4.08      -4.08          0.0           1215                  0.0   \n",
       "3       -9.91      -9.91          0.0           1182                  0.0   \n",
       "4       -7.41      -7.41          0.0           1177                  0.0   \n",
       "\n",
       "   day_ahead_wind_offshore_gen  day_ahead_wind_onshore_gen  day_ahead_load  \n",
       "0                        328.0                       645.0            1321  \n",
       "1                        257.0                       590.0            1296  \n",
       "2                        210.0                       566.0            1242  \n",
       "3                        204.0                       559.0            1211  \n",
       "4                        204.0                       557.0            1208  "
      ],
      "text/html": [
       "<div>\n",
       "<style scoped>\n",
       "    .dataframe tbody tr th:only-of-type {\n",
       "        vertical-align: middle;\n",
       "    }\n",
       "\n",
       "    .dataframe tbody tr th {\n",
       "        vertical-align: top;\n",
       "    }\n",
       "\n",
       "    .dataframe thead th {\n",
       "        text-align: right;\n",
       "    }\n",
       "</style>\n",
       "<table border=\"1\" class=\"dataframe\">\n",
       "  <thead>\n",
       "    <tr style=\"text-align: right;\">\n",
       "      <th></th>\n",
       "      <th>forward_RE</th>\n",
       "      <th>prices_SB</th>\n",
       "      <th>prices_diff</th>\n",
       "      <th>day_ahead_gen</th>\n",
       "      <th>day_ahead_solar_gen</th>\n",
       "      <th>day_ahead_wind_offshore_gen</th>\n",
       "      <th>day_ahead_wind_onshore_gen</th>\n",
       "      <th>day_ahead_load</th>\n",
       "    </tr>\n",
       "  </thead>\n",
       "  <tbody>\n",
       "    <tr>\n",
       "      <th>0</th>\n",
       "      <td>28.32</td>\n",
       "      <td>28.32</td>\n",
       "      <td>0.0</td>\n",
       "      <td>1412</td>\n",
       "      <td>0.0</td>\n",
       "      <td>328.0</td>\n",
       "      <td>645.0</td>\n",
       "      <td>1321</td>\n",
       "    </tr>\n",
       "    <tr>\n",
       "      <th>1</th>\n",
       "      <td>10.07</td>\n",
       "      <td>10.07</td>\n",
       "      <td>0.0</td>\n",
       "      <td>1277</td>\n",
       "      <td>0.0</td>\n",
       "      <td>257.0</td>\n",
       "      <td>590.0</td>\n",
       "      <td>1296</td>\n",
       "    </tr>\n",
       "    <tr>\n",
       "      <th>2</th>\n",
       "      <td>-4.08</td>\n",
       "      <td>-4.08</td>\n",
       "      <td>0.0</td>\n",
       "      <td>1215</td>\n",
       "      <td>0.0</td>\n",
       "      <td>210.0</td>\n",
       "      <td>566.0</td>\n",
       "      <td>1242</td>\n",
       "    </tr>\n",
       "    <tr>\n",
       "      <th>3</th>\n",
       "      <td>-9.91</td>\n",
       "      <td>-9.91</td>\n",
       "      <td>0.0</td>\n",
       "      <td>1182</td>\n",
       "      <td>0.0</td>\n",
       "      <td>204.0</td>\n",
       "      <td>559.0</td>\n",
       "      <td>1211</td>\n",
       "    </tr>\n",
       "    <tr>\n",
       "      <th>4</th>\n",
       "      <td>-7.41</td>\n",
       "      <td>-7.41</td>\n",
       "      <td>0.0</td>\n",
       "      <td>1177</td>\n",
       "      <td>0.0</td>\n",
       "      <td>204.0</td>\n",
       "      <td>557.0</td>\n",
       "      <td>1208</td>\n",
       "    </tr>\n",
       "  </tbody>\n",
       "</table>\n",
       "</div>"
      ]
     },
     "metadata": {},
     "output_type": "display_data"
    }
   ],
   "execution_count": 38
  },
  {
   "metadata": {
    "ExecuteTime": {
     "end_time": "2024-07-09T08:36:31.276429Z",
     "start_time": "2024-07-09T08:36:31.031171Z"
    }
   },
   "cell_type": "code",
   "source": [
    "# Investigate the UP and DOWN columns (mean, distribution, etc.)\n",
    "print(df['forward_RE'].mean())\n",
    "print(df['prices_SB'].mean())\n",
    "\n",
    "bin_edges = np.linspace(-200, 200, 101)\n",
    "# Plot the distribution of UP and DOWN\n",
    "plt.figure()\n",
    "plt.hist(df['forward_RE'], bins=bin_edges, alpha=0.5, label='Forward_price')\n",
    "\n",
    "plt.hist(df['prices_SB'], bins=bin_edges, alpha=0.5, label='Balancing price')\n",
    "# Add a vertical line for the price of hydrogen (35.2 €/MWh)\n",
    "plt.axvline(x=35.2, color='r', linestyle='--', label='Hydrogen price')\n",
    "plt.xlim(-100, 200)\n",
    "plt.legend(loc='upper right')\n",
    "plt.title('2019 - 2020 prices distribution')\n",
    "plt.show()"
   ],
   "id": "96ff8a87800ee181",
   "outputs": [
    {
     "name": "stdout",
     "output_type": "stream",
     "text": [
      "34.09361682670324\n",
      "35.103417352537726\n"
     ]
    },
    {
     "data": {
      "text/plain": [
       "<Figure size 640x480 with 1 Axes>"
      ],
      "image/png": "[encoded data removed]"
     },
     "metadata": {},
     "output_type": "display_data"
    }
   ],
   "execution_count": 45
  },
  {
   "metadata": {},
   "cell_type": "markdown",
   "source": "# 2022 - 2023 data",
   "id": "686b3d8f9f4a7906"
  },
  {
   "metadata": {
    "ExecuteTime": {
     "end_time": "2024-07-09T08:37:17.582458Z",
     "start_time": "2024-07-09T08:37:17.545497Z"
    }
   },
   "cell_type": "code",
   "source": [
    "df = pd.read_csv('2022_2023/2022_2023_data.csv', index_col=0)\n",
    "display(df.head())"
   ],
   "id": "6e6c006d3fa4f765",
   "outputs": [
    {
     "data": {
      "text/plain": [
       "   forward_RE  forward_FC  prices_SB     UP     DW  production_RE  \\\n",
       "0       41.33   57.547726      41.33  28.32  28.32       0.995098   \n",
       "1       42.18   42.775177      42.18  10.07  10.07       1.000000   \n",
       "2       44.37   69.404847      44.37  -4.08  -4.08       1.000000   \n",
       "3       37.67   39.025886      37.67  -9.91  -9.91       0.995098   \n",
       "4       39.70   61.991515      39.70  -7.41  -7.41       1.000000   \n",
       "\n",
       "   production_FC  Offshore DK2  Offshore DK1  Onshore DK2  Onshore DK1  \n",
       "0       1.000000      0.274701      0.506045     0.680247     0.659599  \n",
       "1       1.000000      0.356135      0.541451     0.796296     0.671060  \n",
       "2       0.776486      0.279045      0.219344     0.728395     0.638109  \n",
       "3       0.935938      0.228013      0.201209     0.698765     0.619771  \n",
       "4       1.000000      0.221498      0.201209     0.690123     0.604011  "
      ],
      "text/html": [
       "<div>\n",
       "<style scoped>\n",
       "    .dataframe tbody tr th:only-of-type {\n",
       "        vertical-align: middle;\n",
       "    }\n",
       "\n",
       "    .dataframe tbody tr th {\n",
       "        vertical-align: top;\n",
       "    }\n",
       "\n",
       "    .dataframe thead th {\n",
       "        text-align: right;\n",
       "    }\n",
       "</style>\n",
       "<table border=\"1\" class=\"dataframe\">\n",
       "  <thead>\n",
       "    <tr style=\"text-align: right;\">\n",
       "      <th></th>\n",
       "      <th>forward_RE</th>\n",
       "      <th>forward_FC</th>\n",
       "      <th>prices_SB</th>\n",
       "      <th>UP</th>\n",
       "      <th>DW</th>\n",
       "      <th>production_RE</th>\n",
       "      <th>production_FC</th>\n",
       "      <th>Offshore DK2</th>\n",
       "      <th>Offshore DK1</th>\n",
       "      <th>Onshore DK2</th>\n",
       "      <th>Onshore DK1</th>\n",
       "    </tr>\n",
       "  </thead>\n",
       "  <tbody>\n",
       "    <tr>\n",
       "      <th>0</th>\n",
       "      <td>41.33</td>\n",
       "      <td>57.547726</td>\n",
       "      <td>41.33</td>\n",
       "      <td>28.32</td>\n",
       "      <td>28.32</td>\n",
       "      <td>0.995098</td>\n",
       "      <td>1.000000</td>\n",
       "      <td>0.274701</td>\n",
       "      <td>0.506045</td>\n",
       "      <td>0.680247</td>\n",
       "      <td>0.659599</td>\n",
       "    </tr>\n",
       "    <tr>\n",
       "      <th>1</th>\n",
       "      <td>42.18</td>\n",
       "      <td>42.775177</td>\n",
       "      <td>42.18</td>\n",
       "      <td>10.07</td>\n",
       "      <td>10.07</td>\n",
       "      <td>1.000000</td>\n",
       "      <td>1.000000</td>\n",
       "      <td>0.356135</td>\n",
       "      <td>0.541451</td>\n",
       "      <td>0.796296</td>\n",
       "      <td>0.671060</td>\n",
       "    </tr>\n",
       "    <tr>\n",
       "      <th>2</th>\n",
       "      <td>44.37</td>\n",
       "      <td>69.404847</td>\n",
       "      <td>44.37</td>\n",
       "      <td>-4.08</td>\n",
       "      <td>-4.08</td>\n",
       "      <td>1.000000</td>\n",
       "      <td>0.776486</td>\n",
       "      <td>0.279045</td>\n",
       "      <td>0.219344</td>\n",
       "      <td>0.728395</td>\n",
       "      <td>0.638109</td>\n",
       "    </tr>\n",
       "    <tr>\n",
       "      <th>3</th>\n",
       "      <td>37.67</td>\n",
       "      <td>39.025886</td>\n",
       "      <td>37.67</td>\n",
       "      <td>-9.91</td>\n",
       "      <td>-9.91</td>\n",
       "      <td>0.995098</td>\n",
       "      <td>0.935938</td>\n",
       "      <td>0.228013</td>\n",
       "      <td>0.201209</td>\n",
       "      <td>0.698765</td>\n",
       "      <td>0.619771</td>\n",
       "    </tr>\n",
       "    <tr>\n",
       "      <th>4</th>\n",
       "      <td>39.70</td>\n",
       "      <td>61.991515</td>\n",
       "      <td>39.70</td>\n",
       "      <td>-7.41</td>\n",
       "      <td>-7.41</td>\n",
       "      <td>1.000000</td>\n",
       "      <td>1.000000</td>\n",
       "      <td>0.221498</td>\n",
       "      <td>0.201209</td>\n",
       "      <td>0.690123</td>\n",
       "      <td>0.604011</td>\n",
       "    </tr>\n",
       "  </tbody>\n",
       "</table>\n",
       "</div>"
      ]
     },
     "metadata": {},
     "output_type": "display_data"
    }
   ],
   "execution_count": 48
  },
  {
   "metadata": {
    "ExecuteTime": {
     "end_time": "2024-07-09T08:37:27.224052Z",
     "start_time": "2024-07-09T08:37:26.988625Z"
    }
   },
   "cell_type": "code",
   "source": [
    "# Investigate the UP and DOWN columns (mean, distribution, etc.)\n",
    "print(df['forward_RE'].mean())\n",
    "print(df['prices_SB'].mean())\n",
    "\n",
    "bin_edges = np.linspace(-100, 1000, 101)\n",
    "# Plot the distribution of UP and DOWN\n",
    "plt.figure()\n",
    "plt.hist(df['forward_RE'], bins=bin_edges, alpha=0.5, label='Forward_price')\n",
    "\n",
    "plt.hist(df['prices_SB'], bins=bin_edges, alpha=0.5, label='Balancing price')\n",
    "# Add a vertical line for the price of hydrogen (35.2 €/MWh)\n",
    "plt.axvline(x=35.2, color='r', linestyle='--', label='Hydrogen price')\n",
    "plt.xlim(-100, 1000)\n",
    "plt.legend(loc='upper right')\n",
    "plt.title('2022 - 2023 prices distribution')\n",
    "plt.show()"
   ],
   "id": "d47f3502e8ff0c92",
   "outputs": [
    {
     "name": "stdout",
     "output_type": "stream",
     "text": [
      "145.70307191780822\n",
      "144.95593350456622\n"
     ]
    },
    {
     "data": {
      "text/plain": [
       "<Figure size 640x480 with 1 Axes>"
      ],
      "image/png": "[encoded data removed]"
     },
     "metadata": {},
     "output_type": "display_data"
    }
   ],
   "execution_count": 51
  }
 ],
 "metadata": {
  "kernelspec": {
   "display_name": "Python 3",
   "language": "python",
   "name": "python3"
  },
  "language_info": {
   "codemirror_mode": {
    "name": "ipython",
    "version": 2
   },
   "file_extension": ".py",
   "mimetype": "text/x-python",
   "name": "python",
   "nbconvert_exporter": "python",
   "pygments_lexer": "ipython2",
   "version": "2.7.6"
  }
 },
 "nbformat": 4,
 "nbformat_minor": 5
}
