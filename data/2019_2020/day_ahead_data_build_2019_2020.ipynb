{
 "cells": [
  {
   "metadata": {
    "ExecuteTime": {
     "end_time": "2024-07-09T10:54:09.424415Z",
     "start_time": "2024-07-09T10:54:09.415934Z"
    }
   },
   "cell_type": "code",
   "source": [
    "import pandas as pd\n",
    "import numpy as np\n",
    "import matplotlib.pyplot as plt\n",
    "\n",
    "from utils.constants import *"
   ],
   "id": "cdd1f45301056c26",
   "outputs": [],
   "execution_count": 5
  },
  {
   "metadata": {
    "ExecuteTime": {
     "end_time": "2024-07-09T10:54:19.254929Z",
     "start_time": "2024-07-09T10:54:19.226146Z"
    }
   },
   "cell_type": "code",
   "source": "main_dataset = pd.read_csv('2019_2020_data.csv', index_col=0)",
   "id": "613e5adf30f2eb27",
   "outputs": [],
   "execution_count": 9
  },
  {
   "metadata": {
    "ExecuteTime": {
     "end_time": "2024-07-09T10:54:19.461626Z",
     "start_time": "2024-07-09T10:54:19.456017Z"
    }
   },
   "cell_type": "code",
   "source": "# main_dataset = main_dataset[['forward_RE','UP','DW']]",
   "id": "54920d1748a49b57",
   "outputs": [],
   "execution_count": 10
  },
  {
   "metadata": {
    "ExecuteTime": {
     "end_time": "2024-07-09T10:54:19.958132Z",
     "start_time": "2024-07-09T10:54:19.759554Z"
    }
   },
   "cell_type": "code",
   "source": [
    "prices_SB = main_dataset[['UP', 'DW', 'forward_RE']].apply(\n",
    "        lambda x: x.iloc[0] if x.iloc[0] != x.iloc[2] else x.iloc[1], axis=1).to_numpy()\n",
    "\n",
    "main_dataset.insert(2, 'prices_SB', prices_SB)\n",
    "main_dataset.drop(columns=['UP', 'DW'], inplace=True)\n",
    "# main_dataset.insert(2, 'prices_diff', main_dataset['prices_SB'] - main_dataset['forward_RE'])\n",
    "main_dataset.head()"
   ],
   "id": "79c798e6f7e1436",
   "outputs": [
    {
     "data": {
      "text/plain": [
       "   forward_RE  forward_FC  prices_SB  production_RE  production_FC  \\\n",
       "0       28.32   35.395866      28.32       0.995098       1.000000   \n",
       "1       10.07   35.127035      10.07       1.000000       1.000000   \n",
       "2       -4.08   -3.707266      -4.08       1.000000       0.776486   \n",
       "3       -9.91  -17.375766      -9.91       0.995098       0.935938   \n",
       "4       -7.41   -7.552286      -7.41       1.000000       1.000000   \n",
       "\n",
       "   Offshore DK2  Offshore DK1  Onshore DK2  Onshore DK1  \n",
       "0      0.274701      0.506045     0.680247     0.659599  \n",
       "1      0.356135      0.541451     0.796296     0.671060  \n",
       "2      0.279045      0.219344     0.728395     0.638109  \n",
       "3      0.228013      0.201209     0.698765     0.619771  \n",
       "4      0.221498      0.201209     0.690123     0.604011  "
      ],
      "text/html": [
       "<div>\n",
       "<style scoped>\n",
       "    .dataframe tbody tr th:only-of-type {\n",
       "        vertical-align: middle;\n",
       "    }\n",
       "\n",
       "    .dataframe tbody tr th {\n",
       "        vertical-align: top;\n",
       "    }\n",
       "\n",
       "    .dataframe thead th {\n",
       "        text-align: right;\n",
       "    }\n",
       "</style>\n",
       "<table border=\"1\" class=\"dataframe\">\n",
       "  <thead>\n",
       "    <tr style=\"text-align: right;\">\n",
       "      <th></th>\n",
       "      <th>forward_RE</th>\n",
       "      <th>forward_FC</th>\n",
       "      <th>prices_SB</th>\n",
       "      <th>production_RE</th>\n",
       "      <th>production_FC</th>\n",
       "      <th>Offshore DK2</th>\n",
       "      <th>Offshore DK1</th>\n",
       "      <th>Onshore DK2</th>\n",
       "      <th>Onshore DK1</th>\n",
       "    </tr>\n",
       "  </thead>\n",
       "  <tbody>\n",
       "    <tr>\n",
       "      <th>0</th>\n",
       "      <td>28.32</td>\n",
       "      <td>35.395866</td>\n",
       "      <td>28.32</td>\n",
       "      <td>0.995098</td>\n",
       "      <td>1.000000</td>\n",
       "      <td>0.274701</td>\n",
       "      <td>0.506045</td>\n",
       "      <td>0.680247</td>\n",
       "      <td>0.659599</td>\n",
       "    </tr>\n",
       "    <tr>\n",
       "      <th>1</th>\n",
       "      <td>10.07</td>\n",
       "      <td>35.127035</td>\n",
       "      <td>10.07</td>\n",
       "      <td>1.000000</td>\n",
       "      <td>1.000000</td>\n",
       "      <td>0.356135</td>\n",
       "      <td>0.541451</td>\n",
       "      <td>0.796296</td>\n",
       "      <td>0.671060</td>\n",
       "    </tr>\n",
       "    <tr>\n",
       "      <th>2</th>\n",
       "      <td>-4.08</td>\n",
       "      <td>-3.707266</td>\n",
       "      <td>-4.08</td>\n",
       "      <td>1.000000</td>\n",
       "      <td>0.776486</td>\n",
       "      <td>0.279045</td>\n",
       "      <td>0.219344</td>\n",
       "      <td>0.728395</td>\n",
       "      <td>0.638109</td>\n",
       "    </tr>\n",
       "    <tr>\n",
       "      <th>3</th>\n",
       "      <td>-9.91</td>\n",
       "      <td>-17.375766</td>\n",
       "      <td>-9.91</td>\n",
       "      <td>0.995098</td>\n",
       "      <td>0.935938</td>\n",
       "      <td>0.228013</td>\n",
       "      <td>0.201209</td>\n",
       "      <td>0.698765</td>\n",
       "      <td>0.619771</td>\n",
       "    </tr>\n",
       "    <tr>\n",
       "      <th>4</th>\n",
       "      <td>-7.41</td>\n",
       "      <td>-7.552286</td>\n",
       "      <td>-7.41</td>\n",
       "      <td>1.000000</td>\n",
       "      <td>1.000000</td>\n",
       "      <td>0.221498</td>\n",
       "      <td>0.201209</td>\n",
       "      <td>0.690123</td>\n",
       "      <td>0.604011</td>\n",
       "    </tr>\n",
       "  </tbody>\n",
       "</table>\n",
       "</div>"
      ]
     },
     "execution_count": 11,
     "metadata": {},
     "output_type": "execute_result"
    }
   ],
   "execution_count": 11
  },
  {
   "metadata": {
    "ExecuteTime": {
     "end_time": "2024-07-09T10:54:36.927683Z",
     "start_time": "2024-07-09T10:54:36.800769Z"
    }
   },
   "cell_type": "code",
   "source": "main_dataset.to_csv('./2019_2020_data.csv', index=True)",
   "id": "7e1e6d60c333a0f7",
   "outputs": [],
   "execution_count": 12
  },
  {
   "metadata": {},
   "cell_type": "markdown",
   "source": "## All Day-Ahead",
   "id": "be50126feaea2261"
  },
  {
   "metadata": {
    "ExecuteTime": {
     "end_time": "2024-07-05T09:15:13.431940Z",
     "start_time": "2024-07-05T09:15:13.406525Z"
    }
   },
   "cell_type": "code",
   "source": [
    "df_gen_2019 = pd.read_csv('./Generation Forecast - Day ahead_201901010000-202001010000.csv', index_col=0)\n",
    "df_gen_2020 = pd.read_csv('./Generation Forecast - Day ahead_202001010000-202101010000.csv', index_col=0)\n",
    "df_gen = pd.concat([df_gen_2019, df_gen_2020], axis=0, ignore_index=True)\n",
    "df_gen.head()"
   ],
   "id": "3f61346415ae4a91",
   "outputs": [
    {
     "data": {
      "text/plain": [
       "   Scheduled Generation [MW] (D) - BZN|DK2  \\\n",
       "0                                     1412   \n",
       "1                                     1277   \n",
       "2                                     1215   \n",
       "3                                     1182   \n",
       "4                                     1177   \n",
       "\n",
       "   Scheduled Consumption [MW] (D) - BZN|DK2  \n",
       "0                                       NaN  \n",
       "1                                       NaN  \n",
       "2                                       NaN  \n",
       "3                                       NaN  \n",
       "4                                       NaN  "
      ],
      "text/html": [
       "<div>\n",
       "<style scoped>\n",
       "    .dataframe tbody tr th:only-of-type {\n",
       "        vertical-align: middle;\n",
       "    }\n",
       "\n",
       "    .dataframe tbody tr th {\n",
       "        vertical-align: top;\n",
       "    }\n",
       "\n",
       "    .dataframe thead th {\n",
       "        text-align: right;\n",
       "    }\n",
       "</style>\n",
       "<table border=\"1\" class=\"dataframe\">\n",
       "  <thead>\n",
       "    <tr style=\"text-align: right;\">\n",
       "      <th></th>\n",
       "      <th>Scheduled Generation [MW] (D) - BZN|DK2</th>\n",
       "      <th>Scheduled Consumption [MW] (D) - BZN|DK2</th>\n",
       "    </tr>\n",
       "  </thead>\n",
       "  <tbody>\n",
       "    <tr>\n",
       "      <th>0</th>\n",
       "      <td>1412</td>\n",
       "      <td>NaN</td>\n",
       "    </tr>\n",
       "    <tr>\n",
       "      <th>1</th>\n",
       "      <td>1277</td>\n",
       "      <td>NaN</td>\n",
       "    </tr>\n",
       "    <tr>\n",
       "      <th>2</th>\n",
       "      <td>1215</td>\n",
       "      <td>NaN</td>\n",
       "    </tr>\n",
       "    <tr>\n",
       "      <th>3</th>\n",
       "      <td>1182</td>\n",
       "      <td>NaN</td>\n",
       "    </tr>\n",
       "    <tr>\n",
       "      <th>4</th>\n",
       "      <td>1177</td>\n",
       "      <td>NaN</td>\n",
       "    </tr>\n",
       "  </tbody>\n",
       "</table>\n",
       "</div>"
      ]
     },
     "execution_count": 53,
     "metadata": {},
     "output_type": "execute_result"
    }
   ],
   "execution_count": 53
  },
  {
   "metadata": {
    "ExecuteTime": {
     "end_time": "2024-07-05T09:15:13.623152Z",
     "start_time": "2024-07-05T09:15:13.612932Z"
    }
   },
   "cell_type": "code",
   "source": [
    "df_gen.drop(columns=['Scheduled Consumption [MW] (D) - BZN|DK2'], inplace=True)\n",
    "df_gen.rename(columns={'Scheduled Generation [MW] (D) - BZN|DK2': 'day_ahead_gen'}, inplace=True)\n",
    "main_dataset = pd.concat([main_dataset, df_gen], axis=1)\n",
    "main_dataset.head()"
   ],
   "id": "a2c00a317fbfa9da",
   "outputs": [
    {
     "data": {
      "text/plain": [
       "   forward_RE  prices_SB  prices_diff  day_ahead_gen\n",
       "0       28.32      28.32          0.0           1412\n",
       "1       10.07      10.07          0.0           1277\n",
       "2       -4.08      -4.08          0.0           1215\n",
       "3       -9.91      -9.91          0.0           1182\n",
       "4       -7.41      -7.41          0.0           1177"
      ],
      "text/html": [
       "<div>\n",
       "<style scoped>\n",
       "    .dataframe tbody tr th:only-of-type {\n",
       "        vertical-align: middle;\n",
       "    }\n",
       "\n",
       "    .dataframe tbody tr th {\n",
       "        vertical-align: top;\n",
       "    }\n",
       "\n",
       "    .dataframe thead th {\n",
       "        text-align: right;\n",
       "    }\n",
       "</style>\n",
       "<table border=\"1\" class=\"dataframe\">\n",
       "  <thead>\n",
       "    <tr style=\"text-align: right;\">\n",
       "      <th></th>\n",
       "      <th>forward_RE</th>\n",
       "      <th>prices_SB</th>\n",
       "      <th>prices_diff</th>\n",
       "      <th>day_ahead_gen</th>\n",
       "    </tr>\n",
       "  </thead>\n",
       "  <tbody>\n",
       "    <tr>\n",
       "      <th>0</th>\n",
       "      <td>28.32</td>\n",
       "      <td>28.32</td>\n",
       "      <td>0.0</td>\n",
       "      <td>1412</td>\n",
       "    </tr>\n",
       "    <tr>\n",
       "      <th>1</th>\n",
       "      <td>10.07</td>\n",
       "      <td>10.07</td>\n",
       "      <td>0.0</td>\n",
       "      <td>1277</td>\n",
       "    </tr>\n",
       "    <tr>\n",
       "      <th>2</th>\n",
       "      <td>-4.08</td>\n",
       "      <td>-4.08</td>\n",
       "      <td>0.0</td>\n",
       "      <td>1215</td>\n",
       "    </tr>\n",
       "    <tr>\n",
       "      <th>3</th>\n",
       "      <td>-9.91</td>\n",
       "      <td>-9.91</td>\n",
       "      <td>0.0</td>\n",
       "      <td>1182</td>\n",
       "    </tr>\n",
       "    <tr>\n",
       "      <th>4</th>\n",
       "      <td>-7.41</td>\n",
       "      <td>-7.41</td>\n",
       "      <td>0.0</td>\n",
       "      <td>1177</td>\n",
       "    </tr>\n",
       "  </tbody>\n",
       "</table>\n",
       "</div>"
      ]
     },
     "execution_count": 54,
     "metadata": {},
     "output_type": "execute_result"
    }
   ],
   "execution_count": 54
  },
  {
   "metadata": {
    "ExecuteTime": {
     "end_time": "2024-07-05T09:15:13.730567Z",
     "start_time": "2024-07-05T09:15:13.693951Z"
    }
   },
   "cell_type": "code",
   "source": [
    "df_wind_solar_gen_2019 = pd.read_csv('./Generation Forecasts for Wind and Solar_201901010000-202001010000.csv', index_col=0)\n",
    "df_wind_solar_gen_2020 = pd.read_csv('./Generation Forecasts for Wind and Solar_202001010000-202101010000.csv', index_col=0)\n",
    "df_wind_solar_gen = pd.concat([df_wind_solar_gen_2019, df_wind_solar_gen_2020], axis=0, ignore_index=True)\n",
    "df_wind_solar_gen.head()"
   ],
   "id": "88f6d8c276bdf8a7",
   "outputs": [
    {
     "data": {
      "text/plain": [
       "   Generation - Solar  [MW] Day Ahead/ BZN|DK2  \\\n",
       "0                                          0.0   \n",
       "1                                          0.0   \n",
       "2                                          0.0   \n",
       "3                                          0.0   \n",
       "4                                          0.0   \n",
       "\n",
       "  Generation - Solar  [MW] Intraday / BZN|DK2  \\\n",
       "0                                         n/e   \n",
       "1                                         n/e   \n",
       "2                                         n/e   \n",
       "3                                         n/e   \n",
       "4                                         n/e   \n",
       "\n",
       "  Generation - Solar  [MW] Current / BZN|DK2  \\\n",
       "0                                        n/e   \n",
       "1                                        n/e   \n",
       "2                                        n/e   \n",
       "3                                        n/e   \n",
       "4                                        n/e   \n",
       "\n",
       "   Generation - Wind Offshore  [MW] Day Ahead/ BZN|DK2  \\\n",
       "0                                              328.0     \n",
       "1                                              257.0     \n",
       "2                                              210.0     \n",
       "3                                              204.0     \n",
       "4                                              204.0     \n",
       "\n",
       "  Generation - Wind Offshore  [MW] Intraday / BZN|DK2  \\\n",
       "0                                                n/e    \n",
       "1                                                n/e    \n",
       "2                                                n/e    \n",
       "3                                                n/e    \n",
       "4                                                n/e    \n",
       "\n",
       "  Generation - Wind Offshore  [MW] Current / BZN|DK2  \\\n",
       "0                                                n/e   \n",
       "1                                                n/e   \n",
       "2                                                n/e   \n",
       "3                                                n/e   \n",
       "4                                                n/e   \n",
       "\n",
       "   Generation - Wind Onshore  [MW] Day Ahead/ BZN|DK2  \\\n",
       "0                                              645.0    \n",
       "1                                              590.0    \n",
       "2                                              566.0    \n",
       "3                                              559.0    \n",
       "4                                              557.0    \n",
       "\n",
       "  Generation - Wind Onshore  [MW] Intraday / BZN|DK2  \\\n",
       "0                                                n/e   \n",
       "1                                                n/e   \n",
       "2                                                n/e   \n",
       "3                                                n/e   \n",
       "4                                                n/e   \n",
       "\n",
       "  Generation - Wind Onshore  [MW] Current / BZN|DK2  \n",
       "0                                               n/e  \n",
       "1                                               n/e  \n",
       "2                                               n/e  \n",
       "3                                               n/e  \n",
       "4                                               n/e  "
      ],
      "text/html": [
       "<div>\n",
       "<style scoped>\n",
       "    .dataframe tbody tr th:only-of-type {\n",
       "        vertical-align: middle;\n",
       "    }\n",
       "\n",
       "    .dataframe tbody tr th {\n",
       "        vertical-align: top;\n",
       "    }\n",
       "\n",
       "    .dataframe thead th {\n",
       "        text-align: right;\n",
       "    }\n",
       "</style>\n",
       "<table border=\"1\" class=\"dataframe\">\n",
       "  <thead>\n",
       "    <tr style=\"text-align: right;\">\n",
       "      <th></th>\n",
       "      <th>Generation - Solar  [MW] Day Ahead/ BZN|DK2</th>\n",
       "      <th>Generation - Solar  [MW] Intraday / BZN|DK2</th>\n",
       "      <th>Generation - Solar  [MW] Current / BZN|DK2</th>\n",
       "      <th>Generation - Wind Offshore  [MW] Day Ahead/ BZN|DK2</th>\n",
       "      <th>Generation - Wind Offshore  [MW] Intraday / BZN|DK2</th>\n",
       "      <th>Generation - Wind Offshore  [MW] Current / BZN|DK2</th>\n",
       "      <th>Generation - Wind Onshore  [MW] Day Ahead/ BZN|DK2</th>\n",
       "      <th>Generation - Wind Onshore  [MW] Intraday / BZN|DK2</th>\n",
       "      <th>Generation - Wind Onshore  [MW] Current / BZN|DK2</th>\n",
       "    </tr>\n",
       "  </thead>\n",
       "  <tbody>\n",
       "    <tr>\n",
       "      <th>0</th>\n",
       "      <td>0.0</td>\n",
       "      <td>n/e</td>\n",
       "      <td>n/e</td>\n",
       "      <td>328.0</td>\n",
       "      <td>n/e</td>\n",
       "      <td>n/e</td>\n",
       "      <td>645.0</td>\n",
       "      <td>n/e</td>\n",
       "      <td>n/e</td>\n",
       "    </tr>\n",
       "    <tr>\n",
       "      <th>1</th>\n",
       "      <td>0.0</td>\n",
       "      <td>n/e</td>\n",
       "      <td>n/e</td>\n",
       "      <td>257.0</td>\n",
       "      <td>n/e</td>\n",
       "      <td>n/e</td>\n",
       "      <td>590.0</td>\n",
       "      <td>n/e</td>\n",
       "      <td>n/e</td>\n",
       "    </tr>\n",
       "    <tr>\n",
       "      <th>2</th>\n",
       "      <td>0.0</td>\n",
       "      <td>n/e</td>\n",
       "      <td>n/e</td>\n",
       "      <td>210.0</td>\n",
       "      <td>n/e</td>\n",
       "      <td>n/e</td>\n",
       "      <td>566.0</td>\n",
       "      <td>n/e</td>\n",
       "      <td>n/e</td>\n",
       "    </tr>\n",
       "    <tr>\n",
       "      <th>3</th>\n",
       "      <td>0.0</td>\n",
       "      <td>n/e</td>\n",
       "      <td>n/e</td>\n",
       "      <td>204.0</td>\n",
       "      <td>n/e</td>\n",
       "      <td>n/e</td>\n",
       "      <td>559.0</td>\n",
       "      <td>n/e</td>\n",
       "      <td>n/e</td>\n",
       "    </tr>\n",
       "    <tr>\n",
       "      <th>4</th>\n",
       "      <td>0.0</td>\n",
       "      <td>n/e</td>\n",
       "      <td>n/e</td>\n",
       "      <td>204.0</td>\n",
       "      <td>n/e</td>\n",
       "      <td>n/e</td>\n",
       "      <td>557.0</td>\n",
       "      <td>n/e</td>\n",
       "      <td>n/e</td>\n",
       "    </tr>\n",
       "  </tbody>\n",
       "</table>\n",
       "</div>"
      ]
     },
     "execution_count": 55,
     "metadata": {},
     "output_type": "execute_result"
    }
   ],
   "execution_count": 55
  },
  {
   "metadata": {
    "ExecuteTime": {
     "end_time": "2024-07-05T09:15:13.859194Z",
     "start_time": "2024-07-05T09:15:13.855191Z"
    }
   },
   "cell_type": "code",
   "source": "df_wind_solar_gen.drop(columns=['Generation - Solar  [MW] Intraday / BZN|DK2','Generation - Solar  [MW] Current / BZN|DK2','Generation - Wind Offshore  [MW] Intraday / BZN|DK2','Generation - Wind Offshore  [MW] Current / BZN|DK2','Generation - Wind Onshore  [MW] Intraday / BZN|DK2','Generation - Wind Onshore  [MW] Current / BZN|DK2'], inplace=True)",
   "id": "b9265c208a9012cf",
   "outputs": [],
   "execution_count": 56
  },
  {
   "metadata": {
    "ExecuteTime": {
     "end_time": "2024-07-05T09:15:13.997448Z",
     "start_time": "2024-07-05T09:15:13.986727Z"
    }
   },
   "cell_type": "code",
   "source": [
    "df_wind_solar_gen.rename(columns={'Generation - Solar  [MW] Day Ahead/ BZN|DK2': 'day_ahead_solar_gen','Generation - Wind Offshore  [MW] Day Ahead/ BZN|DK2': 'day_ahead_wind_offshore_gen','Generation - Wind Onshore  [MW] Day Ahead/ BZN|DK2': 'day_ahead_wind_onshore_gen'}, inplace=True)\n",
    "main_dataset = pd.concat([main_dataset, df_wind_solar_gen], axis=1)\n",
    "main_dataset.head()"
   ],
   "id": "f235e7a5568c7b3d",
   "outputs": [
    {
     "data": {
      "text/plain": [
       "   forward_RE  prices_SB  prices_diff  day_ahead_gen  day_ahead_solar_gen  \\\n",
       "0       28.32      28.32          0.0           1412                  0.0   \n",
       "1       10.07      10.07          0.0           1277                  0.0   \n",
       "2       -4.08      -4.08          0.0           1215                  0.0   \n",
       "3       -9.91      -9.91          0.0           1182                  0.0   \n",
       "4       -7.41      -7.41          0.0           1177                  0.0   \n",
       "\n",
       "   day_ahead_wind_offshore_gen  day_ahead_wind_onshore_gen  \n",
       "0                        328.0                       645.0  \n",
       "1                        257.0                       590.0  \n",
       "2                        210.0                       566.0  \n",
       "3                        204.0                       559.0  \n",
       "4                        204.0                       557.0  "
      ],
      "text/html": [
       "<div>\n",
       "<style scoped>\n",
       "    .dataframe tbody tr th:only-of-type {\n",
       "        vertical-align: middle;\n",
       "    }\n",
       "\n",
       "    .dataframe tbody tr th {\n",
       "        vertical-align: top;\n",
       "    }\n",
       "\n",
       "    .dataframe thead th {\n",
       "        text-align: right;\n",
       "    }\n",
       "</style>\n",
       "<table border=\"1\" class=\"dataframe\">\n",
       "  <thead>\n",
       "    <tr style=\"text-align: right;\">\n",
       "      <th></th>\n",
       "      <th>forward_RE</th>\n",
       "      <th>prices_SB</th>\n",
       "      <th>prices_diff</th>\n",
       "      <th>day_ahead_gen</th>\n",
       "      <th>day_ahead_solar_gen</th>\n",
       "      <th>day_ahead_wind_offshore_gen</th>\n",
       "      <th>day_ahead_wind_onshore_gen</th>\n",
       "    </tr>\n",
       "  </thead>\n",
       "  <tbody>\n",
       "    <tr>\n",
       "      <th>0</th>\n",
       "      <td>28.32</td>\n",
       "      <td>28.32</td>\n",
       "      <td>0.0</td>\n",
       "      <td>1412</td>\n",
       "      <td>0.0</td>\n",
       "      <td>328.0</td>\n",
       "      <td>645.0</td>\n",
       "    </tr>\n",
       "    <tr>\n",
       "      <th>1</th>\n",
       "      <td>10.07</td>\n",
       "      <td>10.07</td>\n",
       "      <td>0.0</td>\n",
       "      <td>1277</td>\n",
       "      <td>0.0</td>\n",
       "      <td>257.0</td>\n",
       "      <td>590.0</td>\n",
       "    </tr>\n",
       "    <tr>\n",
       "      <th>2</th>\n",
       "      <td>-4.08</td>\n",
       "      <td>-4.08</td>\n",
       "      <td>0.0</td>\n",
       "      <td>1215</td>\n",
       "      <td>0.0</td>\n",
       "      <td>210.0</td>\n",
       "      <td>566.0</td>\n",
       "    </tr>\n",
       "    <tr>\n",
       "      <th>3</th>\n",
       "      <td>-9.91</td>\n",
       "      <td>-9.91</td>\n",
       "      <td>0.0</td>\n",
       "      <td>1182</td>\n",
       "      <td>0.0</td>\n",
       "      <td>204.0</td>\n",
       "      <td>559.0</td>\n",
       "    </tr>\n",
       "    <tr>\n",
       "      <th>4</th>\n",
       "      <td>-7.41</td>\n",
       "      <td>-7.41</td>\n",
       "      <td>0.0</td>\n",
       "      <td>1177</td>\n",
       "      <td>0.0</td>\n",
       "      <td>204.0</td>\n",
       "      <td>557.0</td>\n",
       "    </tr>\n",
       "  </tbody>\n",
       "</table>\n",
       "</div>"
      ]
     },
     "execution_count": 57,
     "metadata": {},
     "output_type": "execute_result"
    }
   ],
   "execution_count": 57
  },
  {
   "metadata": {
    "ExecuteTime": {
     "end_time": "2024-07-05T09:15:14.097779Z",
     "start_time": "2024-07-05T09:15:14.077272Z"
    }
   },
   "cell_type": "code",
   "source": [
    "df_load_2019 = pd.read_csv('./Total Load - Day Ahead _ Actual_201901010000-202001010000.csv', index_col=0)\n",
    "df_load_2020 = pd.read_csv('./Total Load - Day Ahead _ Actual_202001010000-202101010000.csv', index_col=0)"
   ],
   "id": "27c70ef41e183bf3",
   "outputs": [],
   "execution_count": 58
  },
  {
   "metadata": {
    "ExecuteTime": {
     "end_time": "2024-07-05T09:15:14.511776Z",
     "start_time": "2024-07-05T09:15:14.505945Z"
    }
   },
   "cell_type": "code",
   "source": [
    "df_load = pd.concat([df_load_2019, df_load_2020], axis=0, ignore_index=True)\n",
    "df_load.head()"
   ],
   "id": "9c9e2b064dd0fc",
   "outputs": [
    {
     "data": {
      "text/plain": [
       "   Day-ahead Total Load Forecast [MW] - BZN|DK2  \\\n",
       "0                                          1321   \n",
       "1                                          1296   \n",
       "2                                          1242   \n",
       "3                                          1211   \n",
       "4                                          1208   \n",
       "\n",
       "   Actual Total Load [MW] - BZN|DK2  \n",
       "0                              1348  \n",
       "1                              1291  \n",
       "2                              1240  \n",
       "3                              1224  \n",
       "4                              1224  "
      ],
      "text/html": [
       "<div>\n",
       "<style scoped>\n",
       "    .dataframe tbody tr th:only-of-type {\n",
       "        vertical-align: middle;\n",
       "    }\n",
       "\n",
       "    .dataframe tbody tr th {\n",
       "        vertical-align: top;\n",
       "    }\n",
       "\n",
       "    .dataframe thead th {\n",
       "        text-align: right;\n",
       "    }\n",
       "</style>\n",
       "<table border=\"1\" class=\"dataframe\">\n",
       "  <thead>\n",
       "    <tr style=\"text-align: right;\">\n",
       "      <th></th>\n",
       "      <th>Day-ahead Total Load Forecast [MW] - BZN|DK2</th>\n",
       "      <th>Actual Total Load [MW] - BZN|DK2</th>\n",
       "    </tr>\n",
       "  </thead>\n",
       "  <tbody>\n",
       "    <tr>\n",
       "      <th>0</th>\n",
       "      <td>1321</td>\n",
       "      <td>1348</td>\n",
       "    </tr>\n",
       "    <tr>\n",
       "      <th>1</th>\n",
       "      <td>1296</td>\n",
       "      <td>1291</td>\n",
       "    </tr>\n",
       "    <tr>\n",
       "      <th>2</th>\n",
       "      <td>1242</td>\n",
       "      <td>1240</td>\n",
       "    </tr>\n",
       "    <tr>\n",
       "      <th>3</th>\n",
       "      <td>1211</td>\n",
       "      <td>1224</td>\n",
       "    </tr>\n",
       "    <tr>\n",
       "      <th>4</th>\n",
       "      <td>1208</td>\n",
       "      <td>1224</td>\n",
       "    </tr>\n",
       "  </tbody>\n",
       "</table>\n",
       "</div>"
      ]
     },
     "execution_count": 59,
     "metadata": {},
     "output_type": "execute_result"
    }
   ],
   "execution_count": 59
  },
  {
   "metadata": {
    "ExecuteTime": {
     "end_time": "2024-07-05T09:15:19.156209Z",
     "start_time": "2024-07-05T09:15:19.144316Z"
    }
   },
   "cell_type": "code",
   "source": [
    "df_load = df_load[['Day-ahead Total Load Forecast [MW] - BZN|DK2']]\n",
    "df_load.rename(columns={'Day-ahead Total Load Forecast [MW] - BZN|DK2': 'day_ahead_load'}, inplace=True)\n",
    "main_dataset = pd.concat([main_dataset, df_load], axis=1)\n",
    "main_dataset.head()"
   ],
   "id": "e5399d5bc396239",
   "outputs": [
    {
     "data": {
      "text/plain": [
       "   forward_RE  prices_SB  prices_diff  day_ahead_gen  day_ahead_solar_gen  \\\n",
       "0       28.32      28.32          0.0           1412                  0.0   \n",
       "1       10.07      10.07          0.0           1277                  0.0   \n",
       "2       -4.08      -4.08          0.0           1215                  0.0   \n",
       "3       -9.91      -9.91          0.0           1182                  0.0   \n",
       "4       -7.41      -7.41          0.0           1177                  0.0   \n",
       "\n",
       "   day_ahead_wind_offshore_gen  day_ahead_wind_onshore_gen  day_ahead_load  \n",
       "0                        328.0                       645.0            1321  \n",
       "1                        257.0                       590.0            1296  \n",
       "2                        210.0                       566.0            1242  \n",
       "3                        204.0                       559.0            1211  \n",
       "4                        204.0                       557.0            1208  "
      ],
      "text/html": [
       "<div>\n",
       "<style scoped>\n",
       "    .dataframe tbody tr th:only-of-type {\n",
       "        vertical-align: middle;\n",
       "    }\n",
       "\n",
       "    .dataframe tbody tr th {\n",
       "        vertical-align: top;\n",
       "    }\n",
       "\n",
       "    .dataframe thead th {\n",
       "        text-align: right;\n",
       "    }\n",
       "</style>\n",
       "<table border=\"1\" class=\"dataframe\">\n",
       "  <thead>\n",
       "    <tr style=\"text-align: right;\">\n",
       "      <th></th>\n",
       "      <th>forward_RE</th>\n",
       "      <th>prices_SB</th>\n",
       "      <th>prices_diff</th>\n",
       "      <th>day_ahead_gen</th>\n",
       "      <th>day_ahead_solar_gen</th>\n",
       "      <th>day_ahead_wind_offshore_gen</th>\n",
       "      <th>day_ahead_wind_onshore_gen</th>\n",
       "      <th>day_ahead_load</th>\n",
       "    </tr>\n",
       "  </thead>\n",
       "  <tbody>\n",
       "    <tr>\n",
       "      <th>0</th>\n",
       "      <td>28.32</td>\n",
       "      <td>28.32</td>\n",
       "      <td>0.0</td>\n",
       "      <td>1412</td>\n",
       "      <td>0.0</td>\n",
       "      <td>328.0</td>\n",
       "      <td>645.0</td>\n",
       "      <td>1321</td>\n",
       "    </tr>\n",
       "    <tr>\n",
       "      <th>1</th>\n",
       "      <td>10.07</td>\n",
       "      <td>10.07</td>\n",
       "      <td>0.0</td>\n",
       "      <td>1277</td>\n",
       "      <td>0.0</td>\n",
       "      <td>257.0</td>\n",
       "      <td>590.0</td>\n",
       "      <td>1296</td>\n",
       "    </tr>\n",
       "    <tr>\n",
       "      <th>2</th>\n",
       "      <td>-4.08</td>\n",
       "      <td>-4.08</td>\n",
       "      <td>0.0</td>\n",
       "      <td>1215</td>\n",
       "      <td>0.0</td>\n",
       "      <td>210.0</td>\n",
       "      <td>566.0</td>\n",
       "      <td>1242</td>\n",
       "    </tr>\n",
       "    <tr>\n",
       "      <th>3</th>\n",
       "      <td>-9.91</td>\n",
       "      <td>-9.91</td>\n",
       "      <td>0.0</td>\n",
       "      <td>1182</td>\n",
       "      <td>0.0</td>\n",
       "      <td>204.0</td>\n",
       "      <td>559.0</td>\n",
       "      <td>1211</td>\n",
       "    </tr>\n",
       "    <tr>\n",
       "      <th>4</th>\n",
       "      <td>-7.41</td>\n",
       "      <td>-7.41</td>\n",
       "      <td>0.0</td>\n",
       "      <td>1177</td>\n",
       "      <td>0.0</td>\n",
       "      <td>204.0</td>\n",
       "      <td>557.0</td>\n",
       "      <td>1208</td>\n",
       "    </tr>\n",
       "  </tbody>\n",
       "</table>\n",
       "</div>"
      ]
     },
     "execution_count": 60,
     "metadata": {},
     "output_type": "execute_result"
    }
   ],
   "execution_count": 60
  },
  {
   "metadata": {
    "ExecuteTime": {
     "end_time": "2024-07-05T09:16:55.907002Z",
     "start_time": "2024-07-05T09:16:55.900655Z"
    }
   },
   "cell_type": "code",
   "source": [
    "main_dataset = main_dataset[:-2*HOURS_PER_DAY]\n",
    "main_dataset.isnull().sum()"
   ],
   "id": "2701400068f3fbaa",
   "outputs": [
    {
     "data": {
      "text/plain": [
       "forward_RE                      0\n",
       "prices_SB                       0\n",
       "prices_diff                     0\n",
       "day_ahead_gen                   0\n",
       "day_ahead_solar_gen            48\n",
       "day_ahead_wind_offshore_gen    48\n",
       "day_ahead_wind_onshore_gen     48\n",
       "day_ahead_load                  0\n",
       "dtype: int64"
      ]
     },
     "execution_count": 62,
     "metadata": {},
     "output_type": "execute_result"
    }
   ],
   "execution_count": 62
  },
  {
   "metadata": {
    "ExecuteTime": {
     "end_time": "2024-07-05T09:17:03.767141Z",
     "start_time": "2024-07-05T09:17:03.759466Z"
    }
   },
   "cell_type": "code",
   "source": [
    "#Interpolating missing values\n",
    "main_dataset.interpolate(method='linear', inplace=True)"
   ],
   "id": "ea2c2f76c3e4df9a",
   "outputs": [
    {
     "data": {
      "text/plain": [
       "forward_RE                     0\n",
       "prices_SB                      0\n",
       "prices_diff                    0\n",
       "day_ahead_gen                  0\n",
       "day_ahead_solar_gen            0\n",
       "day_ahead_wind_offshore_gen    0\n",
       "day_ahead_wind_onshore_gen     0\n",
       "day_ahead_load                 0\n",
       "dtype: int64"
      ]
     },
     "execution_count": 63,
     "metadata": {},
     "output_type": "execute_result"
    }
   ],
   "execution_count": 63
  },
  {
   "metadata": {
    "ExecuteTime": {
     "end_time": "2024-07-05T09:17:10.254916Z",
     "start_time": "2024-07-05T09:17:10.193477Z"
    }
   },
   "cell_type": "code",
   "source": "main_dataset.to_csv('./2020_data_with_imbalance.csv', index=True)",
   "id": "6d3938b3d640fb23",
   "outputs": [],
   "execution_count": 64
  },
  {
   "metadata": {
    "ExecuteTime": {
     "end_time": "2024-07-09T07:53:13.251783Z",
     "start_time": "2024-07-09T07:53:13.226137Z"
    }
   },
   "cell_type": "code",
   "source": [
    "dataframe = pd.read_csv('./2020_data_with_imbalance.csv', index_col=0)\n",
    "dataframe.head()"
   ],
   "id": "8c3ac28b4a30968e",
   "outputs": [
    {
     "data": {
      "text/plain": [
       "   forward_RE  prices_SB  prices_diff  day_ahead_gen  day_ahead_solar_gen  \\\n",
       "0       28.32      28.32          0.0           1412                  0.0   \n",
       "1       10.07      10.07          0.0           1277                  0.0   \n",
       "2       -4.08      -4.08          0.0           1215                  0.0   \n",
       "3       -9.91      -9.91          0.0           1182                  0.0   \n",
       "4       -7.41      -7.41          0.0           1177                  0.0   \n",
       "\n",
       "   day_ahead_wind_offshore_gen  day_ahead_wind_onshore_gen  day_ahead_load  \n",
       "0                        328.0                       645.0            1321  \n",
       "1                        257.0                       590.0            1296  \n",
       "2                        210.0                       566.0            1242  \n",
       "3                        204.0                       559.0            1211  \n",
       "4                        204.0                       557.0            1208  "
      ],
      "text/html": [
       "<div>\n",
       "<style scoped>\n",
       "    .dataframe tbody tr th:only-of-type {\n",
       "        vertical-align: middle;\n",
       "    }\n",
       "\n",
       "    .dataframe tbody tr th {\n",
       "        vertical-align: top;\n",
       "    }\n",
       "\n",
       "    .dataframe thead th {\n",
       "        text-align: right;\n",
       "    }\n",
       "</style>\n",
       "<table border=\"1\" class=\"dataframe\">\n",
       "  <thead>\n",
       "    <tr style=\"text-align: right;\">\n",
       "      <th></th>\n",
       "      <th>forward_RE</th>\n",
       "      <th>prices_SB</th>\n",
       "      <th>prices_diff</th>\n",
       "      <th>day_ahead_gen</th>\n",
       "      <th>day_ahead_solar_gen</th>\n",
       "      <th>day_ahead_wind_offshore_gen</th>\n",
       "      <th>day_ahead_wind_onshore_gen</th>\n",
       "      <th>day_ahead_load</th>\n",
       "    </tr>\n",
       "  </thead>\n",
       "  <tbody>\n",
       "    <tr>\n",
       "      <th>0</th>\n",
       "      <td>28.32</td>\n",
       "      <td>28.32</td>\n",
       "      <td>0.0</td>\n",
       "      <td>1412</td>\n",
       "      <td>0.0</td>\n",
       "      <td>328.0</td>\n",
       "      <td>645.0</td>\n",
       "      <td>1321</td>\n",
       "    </tr>\n",
       "    <tr>\n",
       "      <th>1</th>\n",
       "      <td>10.07</td>\n",
       "      <td>10.07</td>\n",
       "      <td>0.0</td>\n",
       "      <td>1277</td>\n",
       "      <td>0.0</td>\n",
       "      <td>257.0</td>\n",
       "      <td>590.0</td>\n",
       "      <td>1296</td>\n",
       "    </tr>\n",
       "    <tr>\n",
       "      <th>2</th>\n",
       "      <td>-4.08</td>\n",
       "      <td>-4.08</td>\n",
       "      <td>0.0</td>\n",
       "      <td>1215</td>\n",
       "      <td>0.0</td>\n",
       "      <td>210.0</td>\n",
       "      <td>566.0</td>\n",
       "      <td>1242</td>\n",
       "    </tr>\n",
       "    <tr>\n",
       "      <th>3</th>\n",
       "      <td>-9.91</td>\n",
       "      <td>-9.91</td>\n",
       "      <td>0.0</td>\n",
       "      <td>1182</td>\n",
       "      <td>0.0</td>\n",
       "      <td>204.0</td>\n",
       "      <td>559.0</td>\n",
       "      <td>1211</td>\n",
       "    </tr>\n",
       "    <tr>\n",
       "      <th>4</th>\n",
       "      <td>-7.41</td>\n",
       "      <td>-7.41</td>\n",
       "      <td>0.0</td>\n",
       "      <td>1177</td>\n",
       "      <td>0.0</td>\n",
       "      <td>204.0</td>\n",
       "      <td>557.0</td>\n",
       "      <td>1208</td>\n",
       "    </tr>\n",
       "  </tbody>\n",
       "</table>\n",
       "</div>"
      ]
     },
     "execution_count": 3,
     "metadata": {},
     "output_type": "execute_result"
    }
   ],
   "execution_count": 3
  },
  {
   "metadata": {
    "ExecuteTime": {
     "end_time": "2024-07-09T07:54:22.340361Z",
     "start_time": "2024-07-09T07:54:22.337054Z"
    }
   },
   "cell_type": "code",
   "source": [
    "data_2019 = dataframe[:8760]\n",
    "data_2020 = dataframe[8760:]"
   ],
   "id": "55482cc50a5dcc70",
   "outputs": [],
   "execution_count": 5
  },
  {
   "metadata": {
    "ExecuteTime": {
     "end_time": "2024-07-09T07:54:56.085593Z",
     "start_time": "2024-07-09T07:54:56.077593Z"
    }
   },
   "cell_type": "code",
   "source": [
    "print(\"Percentage of time when forward and imbalance prices are equal:\",\n",
    "      data_2019[data_2019['forward_RE'] == data_2019['prices_SB']].shape[0] / data_2019.shape[0] * 100, \"%\")\n",
    "print(\"Percentage of time when imbalance price is higher than forward price:\",\n",
    "      data_2019[data_2019['forward_RE'] < data_2019['prices_SB']].shape[0] / data_2019.shape[0] * 100, \"%\")\n",
    "print(\"Percentage of time when imbalance price is lower than forward price:\",\n",
    "      data_2019[data_2019['forward_RE'] > data_2019['prices_SB']].shape[0] / data_2019.shape[0] * 100, \"%\")\n",
    "print(\"Percentage of time when forward price is lower than hydrogen price:\",\n",
    "      data_2019[data_2019['forward_RE'] < PRICE_H].shape[0] / data_2019.shape[0] * 100, \"%\")\n",
    "print(\"Percentage of time when imbalance price is lower than hydrogen price:\",\n",
    "      data_2019[data_2019['prices_SB'] < PRICE_H].shape[0] / data_2019.shape[0] * 100, \"%\")\n",
    "print(\"Percentage of time when forward price is negative:\",\n",
    "      data_2019[data_2019['forward_RE'] <= 0].shape[0] / data_2019.shape[0] * 100, \"%\")\n",
    "print(\"Percentage of time when imbalance price is negative:\",\n",
    "      data_2019[data_2019['prices_SB'] <= 0].shape[0] / data_2019.shape[0] * 100, \"%\")"
   ],
   "id": "b97d885744e915ec",
   "outputs": [
    {
     "name": "stdout",
     "output_type": "stream",
     "text": [
      "Percentage of time when forward and imbalance prices are equal: 30.216894977168952 %\n",
      "Percentage of time when imbalance price is higher than forward price: 27.636986301369866 %\n",
      "Percentage of time when imbalance price is lower than forward price: 42.14611872146119 %\n",
      "Percentage of time when forward price is lower than hydrogen price: 30.14840182648402 %\n",
      "Percentage of time when imbalance price is lower than hydrogen price: 37.36301369863014 %\n",
      "Percentage of time when forward price is negative: 1.095890410958904 %\n",
      "Percentage of time when imbalance price is negative: 2.636986301369863 %\n"
     ]
    }
   ],
   "execution_count": 8
  },
  {
   "metadata": {
    "ExecuteTime": {
     "end_time": "2024-07-09T07:54:56.650118Z",
     "start_time": "2024-07-09T07:54:56.640776Z"
    }
   },
   "cell_type": "code",
   "source": [
    "print(\"Percentage of time when forward and imbalance prices are equal:\",\n",
    "      data_2020[data_2020['forward_RE'] == data_2020['prices_SB']].shape[0] / data_2020.shape[0] * 100, \"%\")\n",
    "print(\"Percentage of time when imbalance price is higher than forward price:\",\n",
    "      data_2020[data_2020['forward_RE'] < data_2020['prices_SB']].shape[0] / data_2020.shape[0] * 100, \"%\")\n",
    "print(\"Percentage of time when imbalance price is lower than forward price:\",\n",
    "      data_2020[data_2020['forward_RE'] > data_2020['prices_SB']].shape[0] / data_2020.shape[0] * 100, \"%\")\n",
    "print(\"Percentage of time when forward price is lower than hydrogen price:\",\n",
    "      data_2020[data_2020['forward_RE'] < PRICE_H].shape[0] / data_2020.shape[0] * 100, \"%\")\n",
    "print(\"Percentage of time when imbalance price is lower than hydrogen price:\",\n",
    "      data_2020[data_2020['prices_SB'] < PRICE_H].shape[0] / data_2020.shape[0] * 100, \"%\")\n",
    "print(\"Percentage of time when forward price is negative:\",\n",
    "      data_2020[data_2020['forward_RE'] <= 0].shape[0] / data_2020.shape[0] * 100, \"%\")\n",
    "print(\"Percentage of time when imbalance price is negative:\",\n",
    "      data_2020[data_2020['prices_SB'] <= 0].shape[0] / data_2020.shape[0] * 100, \"%\")"
   ],
   "id": "75597a7e2d0aed29",
   "outputs": [
    {
     "name": "stdout",
     "output_type": "stream",
     "text": [
      "Percentage of time when forward and imbalance prices are equal: 38.64468864468865 %\n",
      "Percentage of time when imbalance price is higher than forward price: 21.520146520146522 %\n",
      "Percentage of time when imbalance price is lower than forward price: 39.83516483516483 %\n",
      "Percentage of time when forward price is lower than hydrogen price: 69.72298534798534 %\n",
      "Percentage of time when imbalance price is lower than hydrogen price: 72.01236263736264 %\n",
      "Percentage of time when forward price is negative: 1.0645604395604396 %\n",
      "Percentage of time when imbalance price is negative: 6.593406593406594 %\n"
     ]
    }
   ],
   "execution_count": 9
  }
 ],
 "metadata": {
  "kernelspec": {
   "display_name": "Python 3",
   "language": "python",
   "name": "python3"
  },
  "language_info": {
   "codemirror_mode": {
    "name": "ipython",
    "version": 2
   },
   "file_extension": ".py",
   "mimetype": "text/x-python",
   "name": "python",
   "nbconvert_exporter": "python",
   "pygments_lexer": "ipython2",
   "version": "2.7.6"
  }
 },
 "nbformat": 4,
 "nbformat_minor": 5
}
